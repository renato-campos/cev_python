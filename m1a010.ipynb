{
 "cells": [
  {
   "attachments": {},
   "cell_type": "markdown",
   "metadata": {},
   "source": [
    "## Curso de Python 3 - Mundo 1: Fundamentos - Aula 10\n",
    "##### CeV - Curso em Vídeo<div>Prof. Gustavo Guanabara\n",
    "\n",
    "##### Aluno: Renato"
   ]
  },
  {
   "attachments": {},
   "cell_type": "markdown",
   "metadata": {},
   "source": [
    "### Aula 10 - Estruturas Condicionais\n",
    "\n",
    "~~~python\n",
    "if (condição):\n",
    "    caminho do verdadeiro\n",
    "else:\n",
    "    caminho do Falso"
   ]
  },
  {
   "cell_type": "code",
   "execution_count": 1,
   "metadata": {},
   "outputs": [
    {
     "name": "stdout",
     "output_type": "stream",
     "text": [
      "carro novo\n",
      "fim\n"
     ]
    }
   ],
   "source": [
    "# exemplo\n",
    "\n",
    "tempo = int(input('Quantos anos tem seu carro: '))\n",
    "\n",
    "if tempo <= 3:\n",
    "    print('carro novo')\n",
    "else:\n",
    "    print('carro velho')\n",
    "\n",
    "print('fim')\n"
   ]
  },
  {
   "attachments": {},
   "cell_type": "markdown",
   "metadata": {},
   "source": [
    "Condição simplificada\n",
    "\n",
    "Quando usamos uma única linha para representar toda a condicional if-else\n",
    "Alguns dizem que esse seria um operador ternário do Python"
   ]
  },
  {
   "cell_type": "code",
   "execution_count": 14,
   "metadata": {},
   "outputs": [
    {
     "name": "stdout",
     "output_type": "stream",
     "text": [
      "carro novo\n",
      "carro novo\n",
      "fim\n"
     ]
    }
   ],
   "source": [
    "tempo = int(input('Quantos anos tem seu carro: '))\n",
    "\n",
    "print('carro novo' if tempo <= 3 else 'carro velho') # if-else num linha\n",
    "print('carro novo') if tempo <= 3 else print('carro velho') # perceba a !=\n",
    "\n",
    "print('fim')\n"
   ]
  },
  {
   "attachments": {},
   "cell_type": "markdown",
   "metadata": {},
   "source": [
    "**_Praticando ..._**"
   ]
  },
  {
   "cell_type": "code",
   "execution_count": 7,
   "metadata": {},
   "outputs": [
    {
     "name": "stdout",
     "output_type": "stream",
     "text": [
      "Que nome bonito!\n",
      "\n",
      "Bom dia, Maria\n"
     ]
    }
   ],
   "source": [
    "# condicional simples if(condição):\n",
    "\n",
    "nome = str(input('Digite seu nome: ')).strip().title()\n",
    "\n",
    "if nome == \"Maria\":\n",
    "    print('Que nome bonito você tem!\\n')\n",
    "\n",
    "print(f'Bom dia, {nome}')\n"
   ]
  },
  {
   "cell_type": "code",
   "execution_count": 23,
   "metadata": {},
   "outputs": [
    {
     "name": "stdout",
     "output_type": "stream",
     "text": [
      "\n"
     ]
    }
   ],
   "source": [
    "# simplificada\n",
    "print('Que nome bonito!' if nome == 'Maria' else '')\n",
    "\n",
    "# simplificada só para composta - obrigado a ter else\n"
   ]
  },
  {
   "cell_type": "code",
   "execution_count": 11,
   "metadata": {},
   "outputs": [
    {
     "name": "stdout",
     "output_type": "stream",
     "text": [
      "Que nome comum.\n",
      "Bom dia, 125\n"
     ]
    }
   ],
   "source": [
    "# condicional composta if-else\n",
    "\n",
    "nome = input(('Digite seu nome: ')).strip().title()\n",
    "\n",
    "if nome == \"Maria\":\n",
    "    print('Que nome bonito você tem!\\n')\n",
    "else:\n",
    "    print('Que nome comum.')\n",
    "\n",
    "print(f'Bom dia, {nome}')\n",
    "\n"
   ]
  },
  {
   "cell_type": "code",
   "execution_count": 24,
   "metadata": {},
   "outputs": [
    {
     "name": "stdout",
     "output_type": "stream",
     "text": [
      "Que nome comum.\n",
      "Bom dia, 125\n"
     ]
    }
   ],
   "source": [
    "# simplificada\n",
    "print('Que nome bonito você tem!' if nome == 'Maria' else \"Que nome comum.\")\n",
    "\n",
    "print(f'Bom dia, {nome}')"
   ]
  },
  {
   "cell_type": "code",
   "execution_count": 2,
   "metadata": {},
   "outputs": [
    {
     "name": "stdout",
     "output_type": "stream",
     "text": [
      "Sua média foi 6.0\n",
      "Parabéns!\n"
     ]
    }
   ],
   "source": [
    "nota1 = float(input('Digite a primeira nota: '))\n",
    "nota2 = float(input('Digite a segunda nota: '))\n",
    "\n",
    "media = (nota1 + nota2) / 2\n",
    "\n",
    "print(f'Sua média foi {media:.1f}')\n",
    "\n",
    "if media >= 6:\n",
    "    print('Parabéns!')\n",
    "else:\n",
    "    print('Estude mais')\n"
   ]
  },
  {
   "cell_type": "code",
   "execution_count": 4,
   "metadata": {},
   "outputs": [
    {
     "name": "stdout",
     "output_type": "stream",
     "text": [
      "Sua média foi 6.0\n",
      "Parabéns!\n"
     ]
    }
   ],
   "source": [
    "# simplificada\n",
    "\n",
    "print(f'Sua média foi {media:.1f}')\n",
    "\n",
    "print('Parabéns!' if media >= 6 else 'Estude mais')\n"
   ]
  },
  {
   "attachments": {},
   "cell_type": "markdown",
   "metadata": {},
   "source": [
    "**_Resolver os exercícios do nº 28 ao 35 ..._**"
   ]
  }
 ],
 "metadata": {
  "kernelspec": {
   "display_name": "Python 3",
   "language": "python",
   "name": "python3"
  },
  "language_info": {
   "codemirror_mode": {
    "name": "ipython",
    "version": 3
   },
   "file_extension": ".py",
   "mimetype": "text/x-python",
   "name": "python",
   "nbconvert_exporter": "python",
   "pygments_lexer": "ipython3",
   "version": "3.10.6 (main, Nov 14 2022, 16:10:14) [GCC 11.3.0]"
  },
  "orig_nbformat": 4,
  "vscode": {
   "interpreter": {
    "hash": "916dbcbb3f70747c44a77c7bcd40155683ae19c65e1c03b4aa3499c5328201f1"
   }
  }
 },
 "nbformat": 4,
 "nbformat_minor": 2
}
