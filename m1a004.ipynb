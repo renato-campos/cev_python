{
 "cells": [
  {
   "attachments": {},
   "cell_type": "markdown",
   "metadata": {},
   "source": [
    "## Curso de Python 3 - Mundo 1: Fundamentos - Aula 04\n",
    "\n",
    "##### Curso em Vídeo<div>Prof. Gustavo Guanabara\n",
    "##### Aluno: Renato"
   ]
  },
  {
   "attachments": {},
   "cell_type": "markdown",
   "metadata": {},
   "source": [
    "## Primeiros Comandos em Python"
   ]
  },
  {
   "cell_type": "code",
   "execution_count": null,
   "metadata": {},
   "outputs": [],
   "source": [
    "# função print() - impressão de dados\n",
    "\n",
    "print('Olá, mundo!')\n",
    "print(7 + 4)\n",
    "print('7' + '4')\n",
    "print('7', '4')\n",
    "# print('7' + 4)    # TypeError: quando envolve str, o + significa concatenar\n",
    "print('7', 4)\n",
    "\n",
    "# VARIÁVEIS -em Python, toda variável é um objeto\n",
    "# = significa 'recebe' e realiza uma atribuição\n",
    "\n",
    "nome = 'Renato'\n",
    "idade = 49\n",
    "peso = 125.5\n",
    "print(nome, idade, peso)\n",
    "\n",
    "# função input() para entrada de dados\n",
    "nome = input('Qual é o seu nome? ')\n",
    "idade = input('Quantos anos você tem? ')\n",
    "peso = input('Qual é o seu peso? ')\n",
    "print(nome, idade, peso)\n"
   ]
  },
  {
   "attachments": {},
   "cell_type": "markdown",
   "metadata": {},
   "source": [
    "*RESOLVER EXERCÍCIOS 1, 2 e 3*"
   ]
  }
 ],
 "metadata": {
  "kernelspec": {
   "display_name": "Python 3",
   "language": "python",
   "name": "python3"
  },
  "language_info": {
   "name": "python",
   "version": "3.10.6 (main, Nov 14 2022, 16:10:14) [GCC 11.3.0]"
  },
  "orig_nbformat": 4,
  "vscode": {
   "interpreter": {
    "hash": "916dbcbb3f70747c44a77c7bcd40155683ae19c65e1c03b4aa3499c5328201f1"
   }
  }
 },
 "nbformat": 4,
 "nbformat_minor": 2
}
