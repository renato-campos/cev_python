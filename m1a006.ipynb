{
 "cells": [
  {
   "attachments": {},
   "cell_type": "markdown",
   "metadata": {},
   "source": [
    "## Curso de Python 3 - Mundo 1: Fundamentos - Aula 06\n",
    "##### CeV - Curso em Vídeo<div>Prof. Gustavo Guanabara\n",
    "\n",
    "##### Aluno: Renato"
   ]
  },
  {
   "attachments": {},
   "cell_type": "markdown",
   "metadata": {},
   "source": [
    "Tipos Primitivos\n",
    "\n",
    "- INTEIROS - INTEGER - int -> 7, -4, 0, 9875\n",
    "\n",
    "- REAIS - FLOATING POINT - float -> 4.5, 0.076 , -15.223, 7.0\n",
    "\n",
    "- BOOLEANOS - BOOLEAN - bool -> True, False\n",
    "\n",
    "- CARACTERES - STRING - str -> 'olá', \"7.5\", \"\", 'True'\n",
    "\n",
    "Observação: existem outros tipos que serão vistos posteriormente"
   ]
  },
  {
   "cell_type": "code",
   "execution_count": 2,
   "metadata": {},
   "outputs": [
    {
     "name": "stdout",
     "output_type": "stream",
     "text": [
      "<class 'int'>\n"
     ]
    }
   ],
   "source": [
    "inteiro = 7\n",
    "print(type(inteiro))"
   ]
  },
  {
   "cell_type": "code",
   "execution_count": 3,
   "metadata": {},
   "outputs": [
    {
     "name": "stdout",
     "output_type": "stream",
     "text": [
      "<class 'float'>\n"
     ]
    }
   ],
   "source": [
    "real = 7.5\n",
    "print(type(real))"
   ]
  },
  {
   "cell_type": "code",
   "execution_count": 4,
   "metadata": {},
   "outputs": [
    {
     "name": "stdout",
     "output_type": "stream",
     "text": [
      "<class 'bool'> <class 'bool'>\n"
     ]
    }
   ],
   "source": [
    "verdade = True\n",
    "mentira = False\n",
    "print(type(verdade), type(mentira))"
   ]
  },
  {
   "cell_type": "code",
   "execution_count": 7,
   "metadata": {},
   "outputs": [
    {
     "name": "stdout",
     "output_type": "stream",
     "text": [
      "um \"breve\" relato caixa d'água <class 'str'>\n"
     ]
    }
   ],
   "source": [
    "texto = 'um \"breve\" relato'\n",
    "texto2 = \"caixa d'água\"\n",
    "print(texto, texto2, type(texto))"
   ]
  },
  {
   "attachments": {},
   "cell_type": "markdown",
   "metadata": {},
   "source": [
    "**Entrada de dados** - _função input()_ -> dado é atribuído com tipo string é quando necessário deve ser convertido para o tipo desejado"
   ]
  },
  {
   "cell_type": "code",
   "execution_count": 10,
   "metadata": {},
   "outputs": [
    {
     "name": "stdout",
     "output_type": "stream",
     "text": [
      "2 <class 'str'>\n",
      "2 <class 'int'>\n",
      "2 <class 'int'>\n"
     ]
    }
   ],
   "source": [
    "number1 = input('Digite um valor: ')    # mesmo entrando um número, ele estará como uma string\n",
    "print(number1, type(number1))\n",
    "\n",
    "number1 = int(number1)      # convertendo para inteiro\n",
    "print(number1, type(number1))\n",
    "\n",
    "number2 = int(input('Digite outro número: '))   # convertendo na entrada\n",
    "print(number2, type(number2))\n"
   ]
  },
  {
   "attachments": {},
   "cell_type": "markdown",
   "metadata": {},
   "source": [
    "**Impressão de dados** - _função print()_<div>\n",
    "`sep = ' '`   :   separador dos objetos<div>\n",
    "`end = '\\n'`  :   finalizador do print"
   ]
  },
  {
   "cell_type": "code",
   "execution_count": 20,
   "metadata": {},
   "outputs": [
    {
     "name": "stdout",
     "output_type": "stream",
     "text": [
      "A soma vale => 4\n",
      "\n",
      "A soma de 2 com 2 dá 4\n",
      "A soma de 2 com 2 dá 4\n",
      "A soma de 2 com 2 dá 4\n"
     ]
    }
   ],
   "source": [
    "soma = number1 + number2\n",
    "print('A soma vale', soma, sep = ' => ', end='\\n\\n')    # um tipo de saída\n",
    "print('A soma de {} com {} dá {}'.format(number1, number2, soma))\n",
    "print('A soma de {1} com {2} dá {0}'.format(soma, number1, number2))\n",
    "print(f'A soma de {number1} com {number2} dá {soma}')"
   ]
  },
  {
   "attachments": {},
   "cell_type": "markdown",
   "metadata": {},
   "source": [
    "Verificar os tipos de caracteres que compõem a string retornando `True` ou `False` dependendo se satisfaz a pergunta do comando"
   ]
  },
  {
   "cell_type": "code",
   "execution_count": null,
   "metadata": {},
   "outputs": [],
   "source": [
    "texto = input('Digite algo: ')\n",
    "print(texto.isalnum())\n",
    "print(texto.isalpha())\n",
    "print(texto.isascii())\n",
    "print(texto.isdecimal())\n",
    "print(texto.isdigit())\n",
    "print(texto.isidentifier())\n",
    "print(texto.islower())\n",
    "print(texto.isnumeric())\n",
    "print(texto.isprintable())\n",
    "print(texto.isspace())\n",
    "print(texto.istitle())\n",
    "print(texto.isupper())"
   ]
  },
  {
   "attachments": {},
   "cell_type": "markdown",
   "metadata": {},
   "source": [
    "*Resolver exercícios 3 e 4*"
   ]
  }
 ],
 "metadata": {
  "kernelspec": {
   "display_name": "Python 3",
   "language": "python",
   "name": "python3"
  },
  "language_info": {
   "codemirror_mode": {
    "name": "ipython",
    "version": 3
   },
   "file_extension": ".py",
   "mimetype": "text/x-python",
   "name": "python",
   "nbconvert_exporter": "python",
   "pygments_lexer": "ipython3",
   "version": "3.10.6 (main, Nov 14 2022, 16:10:14) [GCC 11.3.0]"
  },
  "orig_nbformat": 4,
  "vscode": {
   "interpreter": {
    "hash": "916dbcbb3f70747c44a77c7bcd40155683ae19c65e1c03b4aa3499c5328201f1"
   }
  }
 },
 "nbformat": 4,
 "nbformat_minor": 2
}
