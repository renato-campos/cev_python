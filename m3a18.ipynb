{
 "cells": [
  {
   "cell_type": "markdown",
   "metadata": {},
   "source": [
    "## Curso de Python 3 - Mundo 3: Estruturas Compostas\n",
    "##### CeV - Curso em Vídeo<div>Prof. Gustavo Guanabara<div>Aluno: Renato"
   ]
  },
  {
   "attachments": {},
   "cell_type": "markdown",
   "metadata": {},
   "source": [
    "#### Aula 18 - Listas - Parte 2"
   ]
  },
  {
   "cell_type": "code",
   "execution_count": 3,
   "metadata": {},
   "outputs": [
    {
     "name": "stdout",
     "output_type": "stream",
     "text": [
      "['Pedro', 25]\n",
      "Pedro\n",
      "25\n"
     ]
    }
   ],
   "source": [
    "# revisando\n",
    "dados = list()\n",
    "dados.append('Pedro')\n",
    "dados.append(25)\n",
    "print(dados)\n",
    "print(dados[0])\n",
    "print(dados[1])\n"
   ]
  },
  {
   "attachments": {},
   "cell_type": "markdown",
   "metadata": {},
   "source": [
    "#### Listas dentro de listas"
   ]
  },
  {
   "cell_type": "code",
   "execution_count": 4,
   "metadata": {},
   "outputs": [
    {
     "name": "stdout",
     "output_type": "stream",
     "text": [
      "[['Pedro', 25]]\n"
     ]
    }
   ],
   "source": [
    "pessoas = []\n",
    "pessoas.append(dados[:])\n",
    "print(pessoas)"
   ]
  },
  {
   "cell_type": "code",
   "execution_count": 6,
   "metadata": {},
   "outputs": [
    {
     "name": "stdout",
     "output_type": "stream",
     "text": [
      "[['Pedro', 25], ['Maria', 19], ['João', 32], ['Maria', 19], ['João', 32]]\n",
      "['Maria', 19]\n",
      "Maria\n",
      "19\n"
     ]
    }
   ],
   "source": [
    "pessoas.append(['Maria', 19])\n",
    "pessoas.append(['João', 32])\n",
    "print(pessoas)\n",
    "print(pessoas[1])       # acessar o objeto no índice 1\n",
    "print(pessoas[1][0])    # acessar o objeto no índice 0 do objeto no índice 1\n",
    "print(pessoas[1][1])"
   ]
  },
  {
   "attachments": {},
   "cell_type": "markdown",
   "metadata": {},
   "source": [
    "#### _Praticando..._"
   ]
  },
  {
   "cell_type": "code",
   "execution_count": 7,
   "metadata": {},
   "outputs": [
    {
     "name": "stdout",
     "output_type": "stream",
     "text": [
      "[['Maria', 22], ['Maria', 22]]\n"
     ]
    }
   ],
   "source": [
    "dados = []\n",
    "dados.append('Gustavo')\n",
    "dados.append(40)\n",
    "pessoas = []\n",
    "pessoas.append(dados)       # tá certo isso?\n",
    "dados[0] = 'Maria'\n",
    "dados[1] = 22\n",
    "pessoas.append(dados)       # pq deu errado?\n",
    "print(pessoas)"
   ]
  },
  {
   "cell_type": "code",
   "execution_count": 8,
   "metadata": {},
   "outputs": [
    {
     "name": "stdout",
     "output_type": "stream",
     "text": [
      "[['Gustavo', 40], ['Maria', 22]]\n"
     ]
    }
   ],
   "source": [
    "dados = []\n",
    "dados.append('Gustavo')\n",
    "dados.append(40)\n",
    "pessoas = []\n",
    "pessoas.append(dados[:])            # devemos fazer uma cópia\n",
    "dados[0] = 'Maria'\n",
    "dados[1] = 22\n",
    "pessoas.append(dados.copy())        # ou então alteraremos a lista já incluída\n",
    "print(pessoas)"
   ]
  },
  {
   "cell_type": "code",
   "execution_count": 2,
   "metadata": {},
   "outputs": [
    {
     "name": "stdout",
     "output_type": "stream",
     "text": [
      "[['João', 19], ['Ana', 33], ['Joaquim', 13], ['Maria', 45]]\n",
      "['João', 19]\n",
      "João\n",
      "13\n"
     ]
    }
   ],
   "source": [
    "galera = [['João', 19], ['Ana', 33], ['Joaquim', 13], ['Maria', 45]]\n",
    "print(galera)\n",
    "print(galera[0])\n",
    "print(galera[0][0])\n",
    "print(galera[2][1])"
   ]
  },
  {
   "cell_type": "code",
   "execution_count": 4,
   "metadata": {},
   "outputs": [
    {
     "name": "stdout",
     "output_type": "stream",
     "text": [
      "['João', 19]\n",
      "['Ana', 33]\n",
      "['Joaquim', 13]\n",
      "['Maria', 45]\n",
      "João 19\n",
      "Ana 33\n",
      "Joaquim 13\n",
      "Maria 45\n"
     ]
    }
   ],
   "source": [
    "for p in galera:\n",
    "    print(p)\n",
    "\n",
    "for p in galera:\n",
    "    print(p[0], p[1])"
   ]
  },
  {
   "attachments": {},
   "cell_type": "markdown",
   "metadata": {},
   "source": [
    "#### Método `clear()`"
   ]
  },
  {
   "cell_type": "code",
   "execution_count": 5,
   "metadata": {},
   "outputs": [
    {
     "name": "stdout",
     "output_type": "stream",
     "text": [
      "[['João', 25], ['Maria', 45], ['Enzo', 13]]\n"
     ]
    }
   ],
   "source": [
    "galera = list()\n",
    "dado = []\n",
    "for k in range(3):\n",
    "    dado.append(str(input('Nome: ')).strip().capitalize())\n",
    "    dado.append(int(input('Idade: ')))\n",
    "    galera.append(dado[:])\n",
    "    dado.clear()                # limpa a lista\n",
    "print(galera)"
   ]
  },
  {
   "attachments": {},
   "cell_type": "markdown",
   "metadata": {},
   "source": [
    "_Resolver os exercícios do 84 ao 89..._"
   ]
  }
 ],
 "metadata": {
  "kernelspec": {
   "display_name": "Python 3",
   "language": "python",
   "name": "python3"
  },
  "language_info": {
   "codemirror_mode": {
    "name": "ipython",
    "version": 3
   },
   "file_extension": ".py",
   "mimetype": "text/x-python",
   "name": "python",
   "nbconvert_exporter": "python",
   "pygments_lexer": "ipython3",
   "version": "3.10.6"
  },
  "orig_nbformat": 4,
  "vscode": {
   "interpreter": {
    "hash": "916dbcbb3f70747c44a77c7bcd40155683ae19c65e1c03b4aa3499c5328201f1"
   }
  }
 },
 "nbformat": 4,
 "nbformat_minor": 2
}
