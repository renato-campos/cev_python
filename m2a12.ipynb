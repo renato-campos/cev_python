{
 "cells": [
  {
   "attachments": {},
   "cell_type": "markdown",
   "metadata": {},
   "source": [
    "## Curso de Python 3 - Mundo 2: Conceitos Básicos\n",
    "##### CeV - Curso em Vídeo<div>Prof. Gustavo Guanabara<div>Aluno: Renato"
   ]
  },
  {
   "attachments": {},
   "cell_type": "markdown",
   "metadata": {},
   "source": [
    "#### Aula 12 - Condições Aninhadas\n",
    "\n",
    "Estruturas aninhadas, nada mais são que estruturas dentro de outra estrutura, como uma boneca russa.\n",
    "\n",
    "~~~python\n",
    "if (condição_1):\n",
    "    pass\n",
    "elif(condição_n):   # podem existir diversos elif\n",
    "    pass\n",
    "else:\n",
    "    pass\n",
    "\n",
    "obs: elif e else são opcionais\n",
    "\n",
    "\n",
    "~~~\n",
    "**_Praticando..._**\n"
   ]
  },
  {
   "attachments": {},
   "cell_type": "markdown",
   "metadata": {},
   "source": [
    "Estrutura Condicional Simples"
   ]
  },
  {
   "cell_type": "code",
   "execution_count": 19,
   "metadata": {},
   "outputs": [
    {
     "name": "stdout",
     "output_type": "stream",
     "text": [
      "Tenha um bom dia, Renato\n"
     ]
    }
   ],
   "source": [
    "nome = str(input('Digite seu nome: ')).strip().title()\n",
    "\n",
    "if nome == 'Maria':\n",
    "    print('Que nome bonito!')\n",
    "print(f'Tenha um bom dia, {nome}')"
   ]
  },
  {
   "attachments": {},
   "cell_type": "markdown",
   "metadata": {},
   "source": [
    "Estrutura Condicional Composta"
   ]
  },
  {
   "cell_type": "code",
   "execution_count": 20,
   "metadata": {},
   "outputs": [
    {
     "name": "stdout",
     "output_type": "stream",
     "text": [
      "Que nome comum.\n",
      "Tenha um bom dia, Renato\n"
     ]
    }
   ],
   "source": [
    "if nome == 'Maria':\n",
    "    print('Que nome bonito!')\n",
    "else:\n",
    "    print('Que nome comum.')\n",
    "print(f'Tenha um bom dia, {nome}')"
   ]
  },
  {
   "attachments": {},
   "cell_type": "markdown",
   "metadata": {},
   "source": [
    "Estrutura Condicional Aninhada"
   ]
  },
  {
   "cell_type": "code",
   "execution_count": 21,
   "metadata": {},
   "outputs": [
    {
     "name": "stdout",
     "output_type": "stream",
     "text": [
      "Que nome comum.\n",
      "Tenha um bom dia, Renato\n"
     ]
    }
   ],
   "source": [
    "if nome == 'Maria':\n",
    "    print('Que nome bonito!')\n",
    "else:\n",
    "    if nome in ['José', 'Antônio', 'Manuel']:\n",
    "        print('Seu nome é popular em Portugal')\n",
    "    else:\n",
    "        print('Que nome comum.')\n",
    "print(f'Tenha um bom dia, {nome}')"
   ]
  },
  {
   "attachments": {},
   "cell_type": "markdown",
   "metadata": {},
   "source": [
    "Estrutura Específica do Python para Condicional Aninhada "
   ]
  },
  {
   "cell_type": "code",
   "execution_count": 22,
   "metadata": {},
   "outputs": [
    {
     "name": "stdout",
     "output_type": "stream",
     "text": [
      "Que nome comum.\n",
      "Tenha um bom dia, Renato\n"
     ]
    }
   ],
   "source": [
    "if nome == 'Maria':\n",
    "    print('Que nome bonito!')\n",
    "elif nome in ['José', 'Antônio', 'Manuel']:\n",
    "    print('Seu nome é popular em Portugal')\n",
    "else:\n",
    "    print('Que nome comum.')\n",
    "print(f'Tenha um bom dia, {nome}')"
   ]
  },
  {
   "attachments": {},
   "cell_type": "markdown",
   "metadata": {},
   "source": [
    "Vários `elif`s tanto quanto necessários"
   ]
  },
  {
   "cell_type": "code",
   "execution_count": 23,
   "metadata": {},
   "outputs": [
    {
     "name": "stdout",
     "output_type": "stream",
     "text": [
      "Que nome comum.\n",
      "Tenha um bom dia, Renato\n"
     ]
    }
   ],
   "source": [
    "if nome == 'Maria':\n",
    "    print('Que nome bonito!')\n",
    "elif nome in ['José', 'Antônio', 'Manuel']:\n",
    "    print('Seu nome é popular em Portugal')\n",
    "elif nome in ['Marcelo', 'Pedro', 'Enzo']:\n",
    "    print('Seu nome é popular no Brasil')\n",
    "else:\n",
    "    print('Que nome comum.')\n",
    "print(f'Tenha um bom dia, {nome}')"
   ]
  },
  {
   "attachments": {},
   "cell_type": "markdown",
   "metadata": {},
   "source": [
    "Não há obrigatoriedade do `else`, mas lembre-se que o fluxo pode passar sem realizar nada na condicional"
   ]
  },
  {
   "cell_type": "code",
   "execution_count": 24,
   "metadata": {},
   "outputs": [
    {
     "name": "stdout",
     "output_type": "stream",
     "text": [
      "Tenha um bom dia, Renato\n"
     ]
    }
   ],
   "source": [
    "\n",
    "\n",
    "if nome == 'Maria':\n",
    "    print('Que nome bonito!')\n",
    "elif nome in ['José', 'Antônio', 'Manuel']:\n",
    "    print('Seu nome é popular em Portugal')\n",
    "elif nome in ['Marcelo', 'Pedro', 'Enzo']:\n",
    "    print('Seu nome é popular no Brasil')\n",
    "\n",
    "print(f'Tenha um bom dia, {nome}')"
   ]
  },
  {
   "attachments": {},
   "cell_type": "markdown",
   "metadata": {},
   "source": [
    "**_Resolver os exercícios do 36 ao 45..._**"
   ]
  }
 ],
 "metadata": {
  "kernelspec": {
   "display_name": "Python 3",
   "language": "python",
   "name": "python3"
  },
  "language_info": {
   "codemirror_mode": {
    "name": "ipython",
    "version": 3
   },
   "file_extension": ".py",
   "mimetype": "text/x-python",
   "name": "python",
   "nbconvert_exporter": "python",
   "pygments_lexer": "ipython3",
   "version": "3.10.6"
  },
  "orig_nbformat": 4,
  "vscode": {
   "interpreter": {
    "hash": "916dbcbb3f70747c44a77c7bcd40155683ae19c65e1c03b4aa3499c5328201f1"
   }
  }
 },
 "nbformat": 4,
 "nbformat_minor": 2
}
