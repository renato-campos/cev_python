{
 "cells": [
  {
   "cell_type": "markdown",
   "metadata": {},
   "source": [
    "## Curso de Python 3 - Mundo 3: Estruturas Compostas\n",
    "##### CeV - Curso em Vídeo<div>Prof. Gustavo Guanabara<div>Aluno: Renato"
   ]
  },
  {
   "attachments": {},
   "cell_type": "markdown",
   "metadata": {},
   "source": [
    "#### Aula 17  - Variáveis Compostas - Listas - parte 1\n",
    "\n",
    "Muito parecido com a tupla, mas tem uma diverença muito importante, já que pode ser modificada diretamente. Com isso, as listas possuem muito mais métodos que permitem sua manipulação.\n"
   ]
  },
  {
   "cell_type": "code",
   "execution_count": 28,
   "metadata": {},
   "outputs": [
    {
     "name": "stdout",
     "output_type": "stream",
     "text": [
      "pizza\n"
     ]
    }
   ],
   "source": [
    "# tupla\n",
    "lanche = (\"hambúrguer\", \"suco\", \"pizza\", \"pudim\")\n",
    "print(lanche[2])\n",
    "#lanche[3] = 'sorvete'   # erro pois tuplas são imutáveis"
   ]
  },
  {
   "cell_type": "code",
   "execution_count": 29,
   "metadata": {},
   "outputs": [
    {
     "name": "stdout",
     "output_type": "stream",
     "text": [
      "pudim\n",
      "['hambúrguer', 'suco', 'pizza', 'sorvete']\n"
     ]
    }
   ],
   "source": [
    "# lista\n",
    "lanche = ['hambúrguer', 'suco', 'pizza', 'pudim']\n",
    "print(lanche[3])\n",
    "lanche[3] = 'sorvete'   # perfeitamente mutável\n",
    "print(lanche)"
   ]
  },
  {
   "attachments": {},
   "cell_type": "markdown",
   "metadata": {},
   "source": [
    "#### Método `append()`\n",
    "Realiza a inclusão do elemento ao final da lista\n"
   ]
  },
  {
   "cell_type": "code",
   "execution_count": 30,
   "metadata": {},
   "outputs": [
    {
     "data": {
      "text/plain": [
       "['hambúrguer', 'suco', 'pizza', 'sorvete', 'biscoito']"
      ]
     },
     "execution_count": 30,
     "metadata": {},
     "output_type": "execute_result"
    }
   ],
   "source": [
    "lanche.append('biscoito')\n",
    "lanche"
   ]
  },
  {
   "attachments": {},
   "cell_type": "markdown",
   "metadata": {},
   "source": [
    "#### Método `insert()`\n",
    "Realiza a inclusão do elemento numa posição específica"
   ]
  },
  {
   "cell_type": "code",
   "execution_count": 31,
   "metadata": {},
   "outputs": [
    {
     "data": {
      "text/plain": [
       "['hot dog', 'hambúrguer', 'suco', 'pizza', 'sorvete', 'biscoito']"
      ]
     },
     "execution_count": 31,
     "metadata": {},
     "output_type": "execute_result"
    }
   ],
   "source": [
    "lanche.insert(0, 'hot dog')\n",
    "lanche"
   ]
  },
  {
   "attachments": {},
   "cell_type": "markdown",
   "metadata": {},
   "source": [
    "#### Apagando elementos da lista"
   ]
  },
  {
   "cell_type": "code",
   "execution_count": 32,
   "metadata": {},
   "outputs": [
    {
     "name": "stdout",
     "output_type": "stream",
     "text": [
      "['hot dog', 'hambúrguer', 'suco', 'pizza', 'sorvete', 'biscoito']\n"
     ]
    },
    {
     "data": {
      "text/plain": [
       "['hot dog', 'hambúrguer', 'suco', 'sorvete', 'biscoito']"
      ]
     },
     "execution_count": 32,
     "metadata": {},
     "output_type": "execute_result"
    }
   ],
   "source": [
    "print(lanche)\n",
    "del lanche[3]\n",
    "lanche"
   ]
  },
  {
   "cell_type": "code",
   "execution_count": 33,
   "metadata": {},
   "outputs": [
    {
     "name": "stdout",
     "output_type": "stream",
     "text": [
      "['hot dog', 'hambúrguer', 'suco', 'biscoito']\n",
      "['hot dog', 'hambúrguer', 'suco']\n",
      "['hambúrguer', 'suco']\n"
     ]
    }
   ],
   "source": [
    "lanche.pop(3)   # igual ao del, remove índice indicado\n",
    "print(lanche)\n",
    "lanche.pop()    # padrão remove o último\n",
    "print(lanche)\n",
    "lanche.remove('hot dog')    # remove o item indicado\n",
    "print(lanche)"
   ]
  },
  {
   "cell_type": "code",
   "execution_count": 34,
   "metadata": {},
   "outputs": [
    {
     "name": "stdout",
     "output_type": "stream",
     "text": [
      "['hambúrguer', 'suco']\n"
     ]
    },
    {
     "ename": "NameError",
     "evalue": "name 'lanche' is not defined",
     "output_type": "error",
     "traceback": [
      "\u001b[0;31m---------------------------------------------------------------------------\u001b[0m",
      "\u001b[0;31mNameError\u001b[0m                                 Traceback (most recent call last)",
      "Cell \u001b[0;32mIn[34], line 4\u001b[0m\n\u001b[1;32m      2\u001b[0m \u001b[39mprint\u001b[39m(lanche)\n\u001b[1;32m      3\u001b[0m \u001b[39mdel\u001b[39;00m lanche\n\u001b[0;32m----> 4\u001b[0m lanche\n",
      "\u001b[0;31mNameError\u001b[0m: name 'lanche' is not defined"
     ]
    }
   ],
   "source": [
    "# apagando a lista inteira\n",
    "print(lanche)\n",
    "del lanche\n",
    "lanche"
   ]
  },
  {
   "attachments": {},
   "cell_type": "markdown",
   "metadata": {},
   "source": [
    "#### Criando listas"
   ]
  },
  {
   "cell_type": "code",
   "execution_count": 35,
   "metadata": {},
   "outputs": [
    {
     "data": {
      "text/plain": [
       "[4, 6, 8, 10]"
      ]
     },
     "execution_count": 35,
     "metadata": {},
     "output_type": "execute_result"
    }
   ],
   "source": [
    "valores = list(range(4, 11, 2))\n",
    "valores"
   ]
  },
  {
   "cell_type": "code",
   "execution_count": 36,
   "metadata": {},
   "outputs": [
    {
     "data": {
      "text/plain": [
       "[8, 2, 5, 4, 9, 3, 0]"
      ]
     },
     "execution_count": 36,
     "metadata": {},
     "output_type": "execute_result"
    }
   ],
   "source": [
    "# atribuição direta\n",
    "valores = [8, 2, 5, 4, 9, 3, 0]\n",
    "valores"
   ]
  },
  {
   "attachments": {},
   "cell_type": "markdown",
   "metadata": {},
   "source": [
    "#### Método `sort()`\n",
    "Realiza a ordenação dos elementos da lista"
   ]
  },
  {
   "cell_type": "code",
   "execution_count": 37,
   "metadata": {},
   "outputs": [
    {
     "name": "stdout",
     "output_type": "stream",
     "text": [
      "[8, 2, 5, 4, 9, 3, 0]\n",
      "[0, 2, 3, 4, 5, 8, 9]\n",
      "[9, 8, 5, 4, 3, 2, 0]\n",
      "[0, 2, 3, 4, 5, 8, 9]\n",
      "7\n"
     ]
    }
   ],
   "source": [
    "print(valores)\n",
    "valores.sort()              # ordem crescente\n",
    "print(valores)\n",
    "valores.sort(reverse=True)  # ordem inversa - decrescente\n",
    "print(valores)\n",
    "valores.reverse()           # idem ao antderior\n",
    "print(valores)\n",
    "print(len(valores))         # tamanho da lista"
   ]
  },
  {
   "cell_type": "code",
   "execution_count": 38,
   "metadata": {},
   "outputs": [
    {
     "name": "stdout",
     "output_type": "stream",
     "text": [
      "['a', 'g', 'c', 'D', 'A']\n",
      "['A', 'D', 'a', 'c', 'g']\n",
      "['g', 'c', 'a', 'D', 'A']\n",
      "['A', 'D', 'a', 'c', 'g']\n"
     ]
    }
   ],
   "source": [
    "texto = ['a', 'g', 'c', 'D', 'A']\n",
    "print(texto)\n",
    "texto.sort()\n",
    "print(texto)\n",
    "texto.sort(reverse=True)\n",
    "print(texto)\n",
    "texto.reverse()\n",
    "print(texto)"
   ]
  },
  {
   "cell_type": "code",
   "execution_count": 39,
   "metadata": {},
   "outputs": [
    {
     "name": "stdout",
     "output_type": "stream",
     "text": [
      "['1', '2', 'A', 'a', '', ' ', '-', '_', '#', '$', '@']\n",
      "['', ' ', '#', '$', '-', '1', '2', '@', 'A', '_', 'a']\n",
      "['a', '_', 'A', '@', '2', '1', '-', '$', '#', ' ', '']\n"
     ]
    }
   ],
   "source": [
    "diversos = ['1', '2', 'A', 'a', '', ' ', '-', '_', '#', '$', '@']\n",
    "print(diversos)\n",
    "diversos.sort()     # não suporta misturar int e str\n",
    "print(diversos)\n",
    "diversos.sort(reverse=True)\n",
    "print(diversos)"
   ]
  },
  {
   "cell_type": "code",
   "execution_count": 40,
   "metadata": {},
   "outputs": [
    {
     "name": "stdout",
     "output_type": "stream",
     "text": [
      "[0, 2, 3, 4, 5, 8, 9]\n",
      "[0, 2, 3, 4, 8, 9]\n"
     ]
    }
   ],
   "source": [
    "print(valores)\n",
    "if 5 in valores:\n",
    "    valores.remove(5)\n",
    "print(valores)"
   ]
  },
  {
   "cell_type": "code",
   "execution_count": 42,
   "metadata": {},
   "outputs": [
    {
     "name": "stdout",
     "output_type": "stream",
     "text": [
      "['a', '_', 'A', '@', '2', '1', '-', '$', '#', ' ', '']\n",
      "['a', '_', 'A', '@', '2', '1', '-', '$', '#', ' ', '']\n",
      "['a', '_', 'A', '@', '2', '1', '-', '$', '#', ' ', '']\n",
      "['a', '_', 'A', '@', '1', '-', '$', '#', ' ', '']\n"
     ]
    }
   ],
   "source": [
    "print(diversos)\n",
    "if 2 in diversos:       # não removeu pq é str\n",
    "    diversos.remove(2)\n",
    "print(diversos)\n",
    "print(diversos)\n",
    "if '2' in diversos:       # agora foi removido\n",
    "    diversos.remove('2')\n",
    "print(diversos)"
   ]
  },
  {
   "cell_type": "code",
   "execution_count": 44,
   "metadata": {},
   "outputs": [
    {
     "name": "stdout",
     "output_type": "stream",
     "text": [
      "[5, 9, 4]\n",
      "5...9...4...\n",
      "0 -> 5\n",
      "1 -> 9\n",
      "2 -> 4\n"
     ]
    }
   ],
   "source": [
    "# funcionalidades\n",
    "valores = []\n",
    "valores.append(5)\n",
    "valores.append(9)\n",
    "valores.append(4)\n",
    "print(valores)\n",
    "\n",
    "for v in valores:\n",
    "    print(v, end='...')\n",
    "\n",
    "print()\n",
    "\n",
    "for k, v in enumerate(valores):     # k: key e v: value\n",
    "    print(k, v, sep=' -> ')\n"
   ]
  },
  {
   "cell_type": "code",
   "execution_count": 45,
   "metadata": {},
   "outputs": [
    {
     "name": "stdout",
     "output_type": "stream",
     "text": [
      "[4, 5, 6, 7, 3]\n"
     ]
    }
   ],
   "source": [
    "valores = list()\n",
    "\n",
    "for number in range(5):\n",
    "    valores.append(int(input('Digite um número inteiro: ')))\n",
    "\n",
    "print(valores)"
   ]
  },
  {
   "attachments": {},
   "cell_type": "markdown",
   "metadata": {},
   "source": [
    "#### Importante comportamento das lista\n",
    "Se comportam de maneira diferente das variáveis simples. Se você iguala uma lista à outra, elas serão a mesma lista, pois seus identificados são apenas tags e apontam para o mesmo endereço de memória. assim, alterando uma, altera-se a outra.\n",
    "Para evitar isso é necessário que se copie uma lista e não igualar."
   ]
  },
  {
   "cell_type": "code",
   "execution_count": 46,
   "metadata": {},
   "outputs": [
    {
     "name": "stdout",
     "output_type": "stream",
     "text": [
      "[2, 3, 4, 5]\n",
      "[2, 3, 4, 5]\n"
     ]
    }
   ],
   "source": [
    "lista_A = [2, 3, 4, 5]\n",
    "lista_B = lista_A\n",
    "print(lista_A)\n",
    "print(lista_B)"
   ]
  },
  {
   "cell_type": "code",
   "execution_count": 47,
   "metadata": {},
   "outputs": [
    {
     "name": "stdout",
     "output_type": "stream",
     "text": [
      "[2, 3, 9, 5]\n",
      "[2, 3, 9, 5]\n",
      "[0, 3, 9, 5]\n",
      "[0, 3, 9, 5]\n"
     ]
    }
   ],
   "source": [
    "lista_A[2] = 9\n",
    "print(lista_A)\n",
    "print(lista_B)      # alterada por intermédio da lista_A\n",
    "lista_B[0] = 0\n",
    "print(lista_A)\n",
    "print(lista_B)      # alterada por intermédio da lista_B\n"
   ]
  },
  {
   "cell_type": "code",
   "execution_count": 49,
   "metadata": {},
   "outputs": [
    {
     "name": "stdout",
     "output_type": "stream",
     "text": [
      "[2000, 3, 9, 5]\n",
      "[2000, 3, 9, 5]\n",
      "[2000, 3, 9, 5]\n",
      "[2000, 3, 9, 5]\n",
      "[2000, 3, 9, 5]\n",
      "[2000, 3, 9, 5]\n",
      "[2000, 3, 9, 5]\n",
      "[2000, 3, 9, 5]\n",
      "[2000, 3, 9, 5]\n",
      "[2000, 3, 9, 5]\n",
      "[2000, 1111, 9, 5]\n",
      "[2000, 3, 9, 5]\n"
     ]
    }
   ],
   "source": [
    "# copiando lista via fatiamento\n",
    "lista_C = lista_A[:]\n",
    "lista_D = lista_B[:]\n",
    "print(lista_A)\n",
    "print(lista_B)\n",
    "print(lista_C)\n",
    "print(lista_D)\n",
    "lista_A[0] = 1000\n",
    "lista_B[0] = 2000\n",
    "print(lista_A)\n",
    "print(lista_B)\n",
    "print(lista_C)      # listas C e D não foram alteradas\n",
    "print(lista_D)\n",
    "lista_E = lista_A.copy()\n",
    "print(lista_A)\n",
    "print(lista_E)\n",
    "lista_A[1] = 1111\n",
    "print(lista_A)\n",
    "print(lista_E)      # lista E não foi alterada"
   ]
  },
  {
   "attachments": {},
   "cell_type": "markdown",
   "metadata": {},
   "source": [
    "#### Método `extend()`\n",
    "\n",
    "Realiza a união de duas lista"
   ]
  },
  {
   "cell_type": "code",
   "execution_count": 3,
   "metadata": {},
   "outputs": [
    {
     "name": "stdout",
     "output_type": "stream",
     "text": [
      "[1, 2, 3]\n",
      "[1, 2, 3, 2, 5, 7]\n",
      "[1, 2, 3, 2, 5, 7, 5, 7, 9]\n"
     ]
    }
   ],
   "source": [
    "lista = [1, 2, 3]\n",
    "print(lista)\n",
    "lista.extend([2,5,7])       # uni duas listas\n",
    "print(lista)\n",
    "lista2 = [5, 7, 9]\n",
    "lista += lista2             # faz a mesma coisa\n",
    "print(lista)"
   ]
  },
  {
   "attachments": {},
   "cell_type": "markdown",
   "metadata": {},
   "source": [
    "_Exercícios do 78 ao 83 . . ._"
   ]
  }
 ],
 "metadata": {
  "kernelspec": {
   "display_name": "Python 3",
   "language": "python",
   "name": "python3"
  },
  "language_info": {
   "codemirror_mode": {
    "name": "ipython",
    "version": 3
   },
   "file_extension": ".py",
   "mimetype": "text/x-python",
   "name": "python",
   "nbconvert_exporter": "python",
   "pygments_lexer": "ipython3",
   "version": "3.10.6"
  },
  "orig_nbformat": 4,
  "vscode": {
   "interpreter": {
    "hash": "916dbcbb3f70747c44a77c7bcd40155683ae19c65e1c03b4aa3499c5328201f1"
   }
  }
 },
 "nbformat": 4,
 "nbformat_minor": 2
}
