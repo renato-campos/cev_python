{
 "cells": [
  {
   "attachments": {},
   "cell_type": "markdown",
   "metadata": {},
   "source": [
    "## Curso de Python 3 - Mundo 1: Fundamentos - Aula 10\n",
    "##### CeV - Curso em Vídeo<div>Prof. Gustavo Guanabara\n",
    "##### Aluno: Renato"
   ]
  },
  {
   "attachments": {},
   "cell_type": "markdown",
   "metadata": {},
   "source": [
    "#### Aula 11 - Cores no Terminal\n",
    "\n",
    "ANSI - ESCAPE SEQUENCE -> \\033[<estilo>;<texto>;<fundo>m\n",
    "\n",
    "\\033[   -> abre a sequência para indicar as cores\n",
    "x;      -> código que indica o estilo ex.: 0\n",
    "xx;     -> código que indica a cor do texto ex.: 33\n",
    "xx;     -> código que indica a cor do fundo ex.: 44\n",
    "m       -> fecha a sequência\n",
    "\n",
    "exemplo:    \\033[0;33;44m para **iniciar a formatação** específica\n",
    "            \\033[m para finalizar e **voltar ao padrão**\n",
    "\n",
    "![Alt text](./imagens/image1_aula11.jpeg)\n",
    "\n",
    "EXEMPLO:\n",
    "`\\033[1;33;44m`  inicia texto no formato negrito na cor amarelo e fundo azul\n",
    "`\\033[m`    finaliza esse formato e retorna ao padrão\n",
    "\n",
    "OBS.: **_sempre finalize_**\n",
    "\n",
    "Os códigos de estilo sempre tem 1 algarismo, os de cor do texto começam sempre por 3 e os da cor do fundo sempre começam por 4.\n",
    "\n",
    "##### Estilo\n",
    "\n",
    "0 -> nenhum / padrão<div>\n",
    "1 -> bold / negrito<div>\n",
    "4 -> underline / sublinhado<div>\n",
    "7 -> negative / negativo<div>\n",
    "\n",
    "OBS.: O estilo negativo \"7\" inverte as cores do texto e fundo, ou seja, a cor configurada para o texto vira cor do fundo e a cor do fundo fira cor do texto.<div>\n",
    "\n",
    "##### Cor do Texto\n",
    "\n",
    "30 -> branco<div>\n",
    "31 -> vermelho<div>\n",
    "32 -> verde<div>\n",
    "33 -> amarelo<div>\n",
    "34 -> azul<div>\n",
    "35 -> roxo<div>\n",
    "36 -> ciano<div>\n",
    "37 -> cinza<div>\n",
    "\n",
    "##### Background - Fundo\n",
    "\n",
    "40 -> branco<div>\n",
    "41 -> vermelho<div>\n",
    "42 -> verde<div>\n",
    "43 -> amarelo<div>\n",
    "44 -> azul<div>\n",
    "45 -> roxo<div>\n",
    "46 -> ciano<div>\n",
    "47 -> cinza<div>\n",
    "\n",
    "\n",
    "![Alt text](imagens/imagem2_aula11.jpeg)\n",
    "\n",
    "**_Praticar..._**"
   ]
  },
  {
   "cell_type": "code",
   "execution_count": 3,
   "metadata": {},
   "outputs": [
    {
     "name": "stdout",
     "output_type": "stream",
     "text": [
      "\u001b[0;30;41mTeste\u001b[m\n",
      "\u001b[4;33;44mTeste\u001b[m\n",
      "\u001b[1;35;43mTeste\u001b[m\n",
      "\u001b[30;42mTeste\u001b[m\n",
      "\u001b[mTeste\n",
      "\u001b[7;30mTeste\u001b[m\n"
     ]
    }
   ],
   "source": [
    "print('\\033[0;30;41mTeste\\033[m')\n",
    "print('\\033[4;33;44mTeste\\033[m')\n",
    "print('\\033[1;35;43mTeste\\033[m')\n",
    "print('\\033[30;42mTeste\\033[m')\n",
    "print('\\033[mTeste')\n",
    "print('\\033[7;30mTeste\\033[m')\n",
    "\n",
    "# sempre haverá algumas diferença devido à configurações do terminal"
   ]
  },
  {
   "cell_type": "code",
   "execution_count": 12,
   "metadata": {},
   "outputs": [
    {
     "name": "stdout",
     "output_type": "stream",
     "text": [
      "\u001b[1;33;44mnegrito amarelo azul\u001b[m\n",
      "\u001b[0;30;41mCurso em Vídeo Python\u001b[m\n",
      "\u001b[4;33;44mCurso em Vídeo Python\u001b[m\n",
      "\u001b[1;35;43mCurso em Vídeo Python\u001b[m\n",
      "\u001b[43;1;35mCurso em Vídeo Python\u001b[m\n",
      "\u001b[30;42mCurso em Vídeo Python\u001b[0m\n",
      "\u001b[1;30mCurso em Vídeo Python\n",
      "---\n",
      "---\n",
      "Texto de continuação\n",
      "continuando \u001b[0m até que seja finalizada\n",
      "\u001b[7;33;44mnovo texto\u001b[m\n"
     ]
    }
   ],
   "source": [
    "print('\\033[1;33;44mnegrito amarelo azul\\033[m')\n",
    "print('\\033[0;30;41mCurso em Vídeo Python\\033[m')\n",
    "print('\\033[4;33;44mCurso em Vídeo Python\\033[m')\n",
    "print('\\033[1;35;43mCurso em Vídeo Python\\033[m')\n",
    "print('\\033[43;1;35mCurso em Vídeo Python\\033[m') # a ordem não importa , apena um padrão\n",
    "print('\\033[30;42mCurso em Vídeo Python\\033[0m')\n",
    "print('\\033[1;30mCurso em Vídeo Python')        # jupyter notebook tem alguns problemas de compatibilidade e você tem de finalizar voltando ao padrão \\033[0m e não apenas  \\033[\n",
    "print('---\\n---\\nTexto de continuação')         # mas o código tá certo\n",
    "print('continuando \\033[0m até que seja finalizada')\n",
    "print('\\033[7;33;44mnovo texto\\033[m')"
   ]
  },
  {
   "cell_type": "code",
   "execution_count": 11,
   "metadata": {},
   "outputs": [
    {
     "name": "stdout",
     "output_type": "stream",
     "text": [
      "Olá,\u001b[45mMaria\u001b[0m. Muito prazer!!!\n"
     ]
    }
   ],
   "source": [
    "# Modos de trabalhar com as cores\n",
    "nome = 'Maria'\n",
    "print('Olá,{}{}{}. Muito prazer!!!'.format(\"\\033[45m\", nome, \"\\033[0m\"))"
   ]
  },
  {
   "attachments": {},
   "cell_type": "markdown",
   "metadata": {},
   "source": [
    "Outros meios de usar cores talvez sejam mais práticos e poderosos como o módulo **_COLORIZE_** ou por meio da criação própria de uma função. \n",
    "Abaixo mostra-se o uso de um dicionário pré-configurado com as cores, facilitando a aplicação das mesmas."
   ]
  },
  {
   "cell_type": "code",
   "execution_count": 15,
   "metadata": {},
   "outputs": [
    {
     "name": "stdout",
     "output_type": "stream",
     "text": [
      "vamaos apresentar o \u001b[34mCurso em Vídeo Python\u001b[0m\n"
     ]
    }
   ],
   "source": [
    "texto = 'Curso em Vídeo Python'\n",
    "\n",
    "cores = {\n",
    "        'limpa': '\\033[0m',\n",
    "        'azul': '\\033[34m',\n",
    "        'amarelo' : '\\033[33m',\n",
    "        'negativo' : '\\033[7;30m'\n",
    "}\n",
    "\n",
    "print(f\"vamos apresentar o {cores['azul']}{texto}{cores['limpa']}\")\n"
   ]
  },
  {
   "attachments": {},
   "cell_type": "markdown",
   "metadata": {},
   "source": [
    "**_Desafio é colocar cores nos exercícios feitos até aqui!_**"
   ]
  }
 ],
 "metadata": {
  "kernelspec": {
   "display_name": "Python 3",
   "language": "python",
   "name": "python3"
  },
  "language_info": {
   "codemirror_mode": {
    "name": "ipython",
    "version": 3
   },
   "file_extension": ".py",
   "mimetype": "text/x-python",
   "name": "python",
   "nbconvert_exporter": "python",
   "pygments_lexer": "ipython3",
   "version": "3.10.6 (main, Nov 14 2022, 16:10:14) [GCC 11.3.0]"
  },
  "orig_nbformat": 4,
  "vscode": {
   "interpreter": {
    "hash": "916dbcbb3f70747c44a77c7bcd40155683ae19c65e1c03b4aa3499c5328201f1"
   }
  }
 },
 "nbformat": 4,
 "nbformat_minor": 2
}
