{
 "cells": [
  {
   "attachments": {},
   "cell_type": "markdown",
   "metadata": {},
   "source": [
    "## Curso de Python 3 - Mundo 2: Conceitos Básicos\n",
    "##### CeV - Curso em Vídeo<div>Prof. Gustavo Guanabara<div>Aluno: Renato"
   ]
  },
  {
   "attachments": {},
   "cell_type": "markdown",
   "metadata": {},
   "source": [
    "#### Aula 13 - Laços de Repetições ou Iterações\n",
    "\n",
    "Aplica-se quando se necessita que certo trecho de código seja repetido seguidamente até que certa condição seja satisfeita.\n",
    "\n",
    "~~~python\n",
    "for c in range(0, 3):\n",
    "    comando 1\n",
    "    comando 2\n",
    "~~~\n",
    "\n",
    "A variável de controle é o `c` que realiza a contagem.\n",
    "\n",
    "Nada impede que haja o aninhamento com outras estruturas.\n",
    "~~~python\n",
    "for c in range(3):\n",
    "    if c == 1:\n",
    "        print(c * 10)\n",
    "    print(c)\n",
    "print('fim')\n",
    "~~~"
   ]
  },
  {
   "cell_type": "code",
   "execution_count": 1,
   "metadata": {},
   "outputs": [
    {
     "name": "stdout",
     "output_type": "stream",
     "text": [
      "oi\n",
      "oi\n",
      "oi\n",
      "oi\n",
      "oi\n",
      "FIM\n"
     ]
    }
   ],
   "source": [
    "for c in range(1,6):\n",
    "    print('oi')\n",
    "print('FIM')"
   ]
  },
  {
   "cell_type": "code",
   "execution_count": 2,
   "metadata": {},
   "outputs": [
    {
     "name": "stdout",
     "output_type": "stream",
     "text": [
      "1\n",
      "2\n",
      "3\n",
      "4\n",
      "5\n",
      "fim\n"
     ]
    }
   ],
   "source": [
    "for c in range(1,6):    # repare na função range(primeiro a mostrar, primeiro a não mostrar)\n",
    "    print(c)\n",
    "print('fim')"
   ]
  },
  {
   "cell_type": "code",
   "execution_count": 3,
   "metadata": {},
   "outputs": [
    {
     "name": "stdout",
     "output_type": "stream",
     "text": [
      "0\n",
      "1\n",
      "2\n",
      "3\n",
      "4\n",
      "5\n",
      "fim\n"
     ]
    }
   ],
   "source": [
    "for c in range(6):      # por padrão a qtde de iterações iniciando a partir do zero\n",
    "    print(c)\n",
    "print('fim')"
   ]
  },
  {
   "cell_type": "code",
   "execution_count": 4,
   "metadata": {},
   "outputs": [
    {
     "name": "stdout",
     "output_type": "stream",
     "text": [
      "fim\n"
     ]
    }
   ],
   "source": [
    "for c in range(6,0):  # o início já era posterior ao final, por isso não houve iteração\n",
    "    print(c)\n",
    "print('fim')"
   ]
  },
  {
   "cell_type": "code",
   "execution_count": 5,
   "metadata": {},
   "outputs": [
    {
     "name": "stdout",
     "output_type": "stream",
     "text": [
      "6\n",
      "5\n",
      "4\n",
      "3\n",
      "2\n",
      "1\n",
      "fim\n"
     ]
    }
   ],
   "source": [
    "for c in range(6, 0, -1):    # se quer regressivo, use passo negativo\n",
    "    print(c)\n",
    "print('fim')"
   ]
  },
  {
   "cell_type": "code",
   "execution_count": 6,
   "metadata": {},
   "outputs": [
    {
     "name": "stdout",
     "output_type": "stream",
     "text": [
      "0\n",
      "1\n",
      "2\n",
      "3\n",
      "fim\n"
     ]
    }
   ],
   "source": [
    "# podemos permitir ao usuário determinar o looping\n",
    "number = int(input('Digite um número: '))\n",
    "for c in range(0, number+1):\n",
    "    print(c)\n",
    "print('fim')"
   ]
  },
  {
   "cell_type": "code",
   "execution_count": 8,
   "metadata": {},
   "outputs": [
    {
     "name": "stdout",
     "output_type": "stream",
     "text": [
      "2\n",
      "3\n",
      "4\n",
      "5\n",
      "6\n",
      "fim\n"
     ]
    }
   ],
   "source": [
    "# não só o fim, mas todo ele\n",
    "inicio = int(input('Digite o início: '))\n",
    "final = int(input('Digite o final: '))\n",
    "passo = int(input('Digite o passo: '))\n",
    "\n",
    "for c in range(inicio, final+1, passo):\n",
    "    print(c)\n",
    "print('fim')"
   ]
  },
  {
   "cell_type": "code",
   "execution_count": 10,
   "metadata": {},
   "outputs": [
    {
     "name": "stdout",
     "output_type": "stream",
     "text": [
      "9\n"
     ]
    }
   ],
   "source": [
    "# podemos usar para repetir funções ou qquer trecho de código\n",
    "for c in range(3):\n",
    "    number = int(input('Digite um número: '))\n",
    "print(number)"
   ]
  },
  {
   "cell_type": "code",
   "execution_count": 11,
   "metadata": {},
   "outputs": [
    {
     "name": "stdout",
     "output_type": "stream",
     "text": [
      "soma = 23\n"
     ]
    }
   ],
   "source": [
    "# somatório\n",
    "soma = 0\n",
    "for c in range(0,4):\n",
    "    n=int(input('Digite um valor: '))\n",
    "    soma += n\n",
    "print('soma =', soma)"
   ]
  },
  {
   "attachments": {},
   "cell_type": "markdown",
   "metadata": {},
   "source": [
    "**_Resolver exercícios de 46 ao 56 ..._**"
   ]
  }
 ],
 "metadata": {
  "kernelspec": {
   "display_name": "Python 3",
   "language": "python",
   "name": "python3"
  },
  "language_info": {
   "codemirror_mode": {
    "name": "ipython",
    "version": 3
   },
   "file_extension": ".py",
   "mimetype": "text/x-python",
   "name": "python",
   "nbconvert_exporter": "python",
   "pygments_lexer": "ipython3",
   "version": "3.10.6"
  },
  "orig_nbformat": 4,
  "vscode": {
   "interpreter": {
    "hash": "916dbcbb3f70747c44a77c7bcd40155683ae19c65e1c03b4aa3499c5328201f1"
   }
  }
 },
 "nbformat": 4,
 "nbformat_minor": 2
}
