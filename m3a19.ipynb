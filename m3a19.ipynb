{
 "cells": [
  {
   "attachments": {},
   "cell_type": "markdown",
   "metadata": {},
   "source": [
    "## Curso de Python 3 - Mundo 3: Estruturas Compostas\n",
    "##### CeV - Curso em Vídeo<div>Prof. Gustavo Guanabara<div>Aluno: Renato"
   ]
  },
  {
   "attachments": {},
   "cell_type": "markdown",
   "metadata": {},
   "source": [
    "#### Aula 19 - Variáveis Compostas - Dicionários\n",
    "\n",
    "Tenha em mente que tudo que se aprendeu em *Tuplas* é aplicado em *Listas* e tudo que se aprendeu em *Listas* pode ser aplicado em *Dicionários*."
   ]
  },
  {
   "cell_type": "code",
   "execution_count": 1,
   "metadata": {},
   "outputs": [
    {
     "name": "stdout",
     "output_type": "stream",
     "text": [
      "Nome:  maria\n",
      "Idade:  35\n"
     ]
    }
   ],
   "source": [
    "# listas\n",
    "dados = []\n",
    "nome = str(input('Digite o nome: '))\n",
    "dados.append(nome)\n",
    "idade = int(input('Digite a idade: '))\n",
    "dados.append(idade)\n",
    "# para acessar precisa saber o índice de onde está a informação\n",
    "print('Nome: ', dados[0])   # índice 0 é o nome\n",
    "print('Idade: ', dados[1])  # índice 1 é a idade"
   ]
  },
  {
   "attachments": {},
   "cell_type": "markdown",
   "metadata": {},
   "source": [
    "#### Criando os dicionários\n",
    "\n",
    "~~~python\n",
    "tupla = ()\n",
    "tupla2 = tuple()\n",
    "lista = []\n",
    "lista2 = list()\n",
    "dicionario = {}\n",
    "dicionario2 = dict()\n",
    "~~~"
   ]
  },
  {
   "cell_type": "code",
   "execution_count": 4,
   "metadata": {},
   "outputs": [
    {
     "name": "stdout",
     "output_type": "stream",
     "text": [
      "{}\n",
      "{'nome': 'Pedro', 'idade': 25}\n",
      "Pedro\n",
      "25\n"
     ]
    }
   ],
   "source": [
    "dados = dict()\n",
    "dados2 = {'nome' : 'Pedro', 'idade' : 25}\n",
    "print(dados)\n",
    "print(dados2)\n",
    "print(dados2['nome'])\n",
    "print(dados2['idade'])"
   ]
  },
  {
   "attachments": {},
   "cell_type": "markdown",
   "metadata": {},
   "source": [
    "#### Incluindo Elementos\n",
    "\n",
    "Não existe `append()`, basta fazer a atribuição"
   ]
  },
  {
   "cell_type": "code",
   "execution_count": 5,
   "metadata": {},
   "outputs": [
    {
     "name": "stdout",
     "output_type": "stream",
     "text": [
      "{'nome': 'Pedro', 'idade': 25}\n",
      "{'nome': 'Pedro', 'idade': 25, 'sexo': 'M'}\n"
     ]
    }
   ],
   "source": [
    "print(dados2)\n",
    "dados2['sexo'] = 'M'\n",
    "print(dados2)\n"
   ]
  },
  {
   "attachments": {},
   "cell_type": "markdown",
   "metadata": {},
   "source": [
    "#### Removendo Elementos"
   ]
  },
  {
   "cell_type": "code",
   "execution_count": 6,
   "metadata": {},
   "outputs": [
    {
     "name": "stdout",
     "output_type": "stream",
     "text": [
      "{'nome': 'Pedro', 'sexo': 'M'}\n"
     ]
    }
   ],
   "source": [
    "del dados2['idade']\n",
    "print(dados2)"
   ]
  },
  {
   "attachments": {},
   "cell_type": "markdown",
   "metadata": {},
   "source": [
    "#### Diferença entre Valor , Chave e Item"
   ]
  },
  {
   "cell_type": "code",
   "execution_count": 9,
   "metadata": {},
   "outputs": [
    {
     "name": "stdout",
     "output_type": "stream",
     "text": [
      "dict_values(['Star Wars', 1977, 'George Lucas'])\n",
      "dict_keys(['titulo', 'ano', 'diretor'])\n",
      "dict_items([('titulo', 'Star Wars'), ('ano', 1977), ('diretor', 'George Lucas')])\n"
     ]
    }
   ],
   "source": [
    "filme = {\n",
    "    'titulo': 'Star Wars',\n",
    "    'ano': 1977,\n",
    "    'diretor': 'George Lucas'\n",
    "}\n",
    "print(filme.values())       # valores\n",
    "print(filme.keys())         # chaves\n",
    "print(filme.items())        # item, tupla da chave com seu valor\n"
   ]
  },
  {
   "cell_type": "code",
   "execution_count": 10,
   "metadata": {},
   "outputs": [
    {
     "name": "stdout",
     "output_type": "stream",
     "text": [
      "O titulo é Star Wars\n",
      "O ano é 1977\n",
      "O diretor é George Lucas\n"
     ]
    }
   ],
   "source": [
    "# como fazer uso\n",
    "for k, v in filme.items():\n",
    "    print(f'O {k} é {v}')"
   ]
  },
  {
   "attachments": {},
   "cell_type": "markdown",
   "metadata": {},
   "source": [
    "#### Combinando Estruturas"
   ]
  },
  {
   "cell_type": "code",
   "execution_count": 14,
   "metadata": {},
   "outputs": [
    {
     "name": "stdout",
     "output_type": "stream",
     "text": [
      "[{'titulo': 'Filme Romantico', 'ano': 1977, 'diretor': 'George lucas'}, {'titulo': 'Filme De Ação', 'ano': 1999, 'diretor': 'Jose de alencar'}, {'titulo': 'Filme De Comédia', 'ano': 2012, 'diretor': 'Maria padilha'}]\n"
     ]
    }
   ],
   "source": [
    "locadora = list()\n",
    "filme = dict()\n",
    "for i in range(3):\n",
    "    filme['titulo'] = str(input('Digite o título do filme: ')).strip().capitalize()\n",
    "    filme['ano'] = int(input('Digite o ano de lançamento: '))\n",
    "    filme['diretor'] = str(input('Digite o nome do diretor: ')).strip().title()\n",
    "    locadora.append(filme.copy())\n",
    "    filme.clear()\n",
    "print(locadora)"
   ]
  },
  {
   "attachments": {},
   "cell_type": "markdown",
   "metadata": {},
   "source": [
    "#### Como acessar essas estruturas compostas"
   ]
  },
  {
   "cell_type": "code",
   "execution_count": 15,
   "metadata": {},
   "outputs": [
    {
     "name": "stdout",
     "output_type": "stream",
     "text": [
      "1977\n",
      "Maria padilha\n",
      "Filme De Ação\n"
     ]
    }
   ],
   "source": [
    "print(locadora[0]['ano'])       # o primeiro índice da lista e o segundo é a key do dicionário\n",
    "print(locadora[2]['diretor'])\n",
    "print(locadora[1]['titulo'])"
   ]
  },
  {
   "attachments": {},
   "cell_type": "markdown",
   "metadata": {},
   "source": [
    "#### Ordenando um Dicionário\n",
    "Situação específica e que acaba transformando o dicionário em uma lista"
   ]
  },
  {
   "cell_type": "code",
   "execution_count": 39,
   "metadata": {},
   "outputs": [
    {
     "name": "stdout",
     "output_type": "stream",
     "text": [
      "{'chave_a': 1, 'chave_b': 2, 'chave_c': 3, 'chave_d': 4}\n",
      "[('chave_a', 1), ('chave_b', 2), ('chave_c', 3), ('chave_d', 4)]\n",
      "[('chave_d', 4), ('chave_c', 3), ('chave_b', 2), ('chave_a', 1)]\n",
      "[('chave_a', 1), ('chave_b', 2), ('chave_c', 3), ('chave_d', 4)]\n"
     ]
    }
   ],
   "source": [
    "from operator import itemgetter\n",
    "dic = {\n",
    "    'chave_a': 1,\n",
    "    'chave_b': 2,\n",
    "    'chave_c': 3,\n",
    "    'chave_d': 4\n",
    "}\n",
    "print(dic)\n",
    "\n",
    "dic2 = sorted(dic.items(), key=itemgetter(1))        # ordena pelo valor - índice 1 em ordem crescente\n",
    "print(dic2)\n",
    "dic2 = sorted(dic.items(), key=itemgetter(1), reverse=True) # decrescente\n",
    "print(dic2)\n",
    "dic2 = sorted(dic.items(), key=itemgetter(0))       # ordena pelo key - índice 0\n",
    "print(dic2)\n"
   ]
  },
  {
   "attachments": {},
   "cell_type": "markdown",
   "metadata": {},
   "source": [
    "**_Praticando..._**"
   ]
  },
  {
   "cell_type": "code",
   "execution_count": 20,
   "metadata": {},
   "outputs": [
    {
     "name": "stdout",
     "output_type": "stream",
     "text": [
      "O Renato tem 49 anos\n",
      "dict_keys(['nome', 'sexo', 'idade'])\n",
      "dict_values(['Renato', 'M', 49])\n",
      "dict_items([('nome', 'Renato'), ('sexo', 'M'), ('idade', 49)])\n"
     ]
    }
   ],
   "source": [
    "pessoa = {\n",
    "    'nome':'Renato',\n",
    "    'sexo':'M',\n",
    "    'idade':49\n",
    "}\n",
    "\n",
    "# print formatado\n",
    "print(f\"O {pessoa['nome']} tem {pessoa['idade']} anos\")\n",
    "\n",
    "# modo de recuperar dados\n",
    "print(pessoa.keys())        # só as chaves\n",
    "print(pessoa.values())      # só os valores\n",
    "print(pessoa.items())       # retorna uma lista com tuplas dos pares chave:valor"
   ]
  },
  {
   "cell_type": "code",
   "execution_count": 25,
   "metadata": {},
   "outputs": [
    {
     "name": "stdout",
     "output_type": "stream",
     "text": [
      "('nome', 'Renato')\n",
      "nome Renato\n",
      "('sexo', 'M')\n",
      "sexo M\n",
      "('idade', 49)\n",
      "idade 49\n",
      "nome Renato\n",
      "sexo M\n",
      "idade 49\n"
     ]
    }
   ],
   "source": [
    "for i in pessoa.items():\n",
    "    print(i)\n",
    "    print(i[0],i[1])\n",
    "# modo de usar ideal\n",
    "for k, v in pessoa.items():     # parece o enumerate das listas e tuplas\n",
    "    print(k, v)"
   ]
  },
  {
   "cell_type": "code",
   "execution_count": 30,
   "metadata": {},
   "outputs": [
    {
     "name": "stdout",
     "output_type": "stream",
     "text": [
      "{'nome': 'Kelly', 'sexo': 'F', 'idade': 46}\n"
     ]
    }
   ],
   "source": [
    "# modificando\n",
    "pessoa['nome'] = 'Kelly'\n",
    "pessoa['sexo'] = 'F'\n",
    "pessoa['idade'] = 46\n",
    "print(pessoa)"
   ]
  },
  {
   "cell_type": "code",
   "execution_count": 32,
   "metadata": {},
   "outputs": [
    {
     "name": "stdout",
     "output_type": "stream",
     "text": [
      "Rio De Janeiro - RJ\n",
      "São Paulo - SP\n"
     ]
    }
   ],
   "source": [
    "brasil = []\n",
    "estado = {\n",
    "    'uf':'',\n",
    "    'sigla':''\n",
    "}\n",
    "for i in range(2):\n",
    "    estado['uf'] = str(input('Estado: ')).strip().title()\n",
    "    estado['sigla'] = str(input('Sigla: ')).strip().upper()[0:2]\n",
    "    brasil.append(estado.copy())    # dicionários só copiam c/ copy(), fatiamento não serve\n",
    "    estado.clear()\n",
    "for i in range(len(brasil)):\n",
    "    print(f\"{brasil[i]['uf']} - {brasil[i]['sigla']}\")\n"
   ]
  },
  {
   "cell_type": "code",
   "execution_count": 36,
   "metadata": {},
   "outputs": [
    {
     "name": "stdout",
     "output_type": "stream",
     "text": [
      "uf: Rio De Janeiro  sigla: RJ  \n",
      "uf: São Paulo  sigla: SP  \n"
     ]
    }
   ],
   "source": [
    "# modo mais elaborado\n",
    "for e in brasil:\n",
    "    for k, v in e.items():\n",
    "        print(f'{k}: {v}', end='  ')\n",
    "    print()"
   ]
  },
  {
   "attachments": {},
   "cell_type": "markdown",
   "metadata": {},
   "source": [
    "**_Resolver exercícios do 90 ao 95_**..."
   ]
  }
 ],
 "metadata": {
  "kernelspec": {
   "display_name": "Python 3",
   "language": "python",
   "name": "python3"
  },
  "language_info": {
   "codemirror_mode": {
    "name": "ipython",
    "version": 3
   },
   "file_extension": ".py",
   "mimetype": "text/x-python",
   "name": "python",
   "nbconvert_exporter": "python",
   "pygments_lexer": "ipython3",
   "version": "3.10.6"
  },
  "orig_nbformat": 4,
  "vscode": {
   "interpreter": {
    "hash": "916dbcbb3f70747c44a77c7bcd40155683ae19c65e1c03b4aa3499c5328201f1"
   }
  }
 },
 "nbformat": 4,
 "nbformat_minor": 2
}
