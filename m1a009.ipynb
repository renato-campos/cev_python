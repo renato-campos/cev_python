{
 "cells": [
  {
   "cell_type": "markdown",
   "metadata": {},
   "source": [
    "## Curso de Python 3 - Mundo 1: Fundamentos - Aula 09\n",
    "##### CeV - Curso em Vídeo<div>Prof. Gustavo Guanabara\n",
    "\n",
    "##### Aluno: Renato"
   ]
  },
  {
   "attachments": {},
   "cell_type": "markdown",
   "metadata": {},
   "source": [
    "### Aula 09 - Manipulando Textos\n",
    "\n",
    "cadeias de textos são chamadas de strings e devem vir entre aspas simples ou duplas.\n",
    "\n",
    "`\"textos entre aspas duplas\"`<div>\n",
    "\n",
    "`'texto entre aspas simples'`<div>\n",
    "\n",
    "Para uma string em multiplas linhas, deve-se colocá-las entre aspas simples triplas.\n",
    "\n",
    "`'''texto\n",
    "em várias\n",
    "linhas'''`<div>\n",
    "`\"\"\"outro\n",
    "modo de\n",
    "fazer\"\"\"`"
   ]
  },
  {
   "cell_type": "code",
   "execution_count": null,
   "metadata": {},
   "outputs": [],
   "source": [
    "print('1. string entre aspas simples')\n",
    "print(\"2. string entre aspas duplas\")\n",
    "print('''3. para texto\n",
    "em múltiplas linhas''')\n",
    "print(\"\"\"4. múltiplas\n",
    "linhas\"\"\")"
   ]
  },
  {
   "attachments": {},
   "cell_type": "markdown",
   "metadata": {},
   "source": [
    "obs.: uma string se comporta de modo parecido com uma tupla, sendo cada caracter um elemento da tupla, mas NÃO é uma tupla<div>\n",
    "**_Case sensitive_** - o python diferencia maiúsculas de minúsculas"
   ]
  },
  {
   "attachments": {},
   "cell_type": "markdown",
   "metadata": {},
   "source": [
    "#### Fatiamento de Strings"
   ]
  },
  {
   "cell_type": "code",
   "execution_count": null,
   "metadata": {},
   "outputs": [],
   "source": [
    "frase = 'Curso em Vídeo Python'\n",
    "print(frase)\n",
    "print(frase[9])\n",
    "print(frase[9:13]) # 9 primeiro a exibir 13 primeiro a não exibir\n",
    "print(frase[9:21])\n",
    "print(frase[9:30]) # funciona mas não é o ideal\n",
    "print(frase[9:21:2]) # passo 2: pula de 2 em 2\n",
    "print(frase[:5]) # omissão do início significa desde o iníciono caso 0\n",
    "print(frase[15:]) # omissão do término significa até o fim\n",
    "print(frase[9::3]) # do 9 até o final de 3 em 3"
   ]
  },
  {
   "attachments": {},
   "cell_type": "markdown",
   "metadata": {},
   "source": [
    "#### Tamanho da String"
   ]
  },
  {
   "cell_type": "code",
   "execution_count": 3,
   "metadata": {},
   "outputs": [
    {
     "data": {
      "text/plain": [
       "21"
      ]
     },
     "execution_count": 3,
     "metadata": {},
     "output_type": "execute_result"
    }
   ],
   "source": [
    "len(frase)"
   ]
  },
  {
   "attachments": {},
   "cell_type": "markdown",
   "metadata": {},
   "source": [
    "Contagem do número de vezes que o trecho procurado aparece na string ou numa fatia desta"
   ]
  },
  {
   "cell_type": "code",
   "execution_count": 4,
   "metadata": {},
   "outputs": [
    {
     "name": "stdout",
     "output_type": "stream",
     "text": [
      "3\n",
      "1\n"
     ]
    }
   ],
   "source": [
    "print(frase.count('o'))          # conta quantos \"o\" tem na string\n",
    "print(frase.count('o', 0, 13))   # conta quantos \"o\" tem na fatia de 0 ao 12 string"
   ]
  },
  {
   "attachments": {},
   "cell_type": "markdown",
   "metadata": {},
   "source": [
    "Procura o trecho na string e retorna o índice da primeira posição de onde fora encontrada"
   ]
  },
  {
   "cell_type": "code",
   "execution_count": 5,
   "metadata": {},
   "outputs": [
    {
     "name": "stdout",
     "output_type": "stream",
     "text": [
      "11\n",
      "11\n",
      "-1\n"
     ]
    }
   ],
   "source": [
    "print(frase.find('deo')) # procura trecho na string e retorna primeira posição\n",
    "print(frase.find('deo',5,14)) # procura trecho na fatia \n",
    "print(frase.find('Android')) # quando encontrado e -1 quando não"
   ]
  },
  {
   "attachments": {},
   "cell_type": "markdown",
   "metadata": {},
   "source": [
    "Verifica se o trecho está presente na string, retornando `True` ou `False`"
   ]
  },
  {
   "cell_type": "code",
   "execution_count": null,
   "metadata": {},
   "outputs": [],
   "source": [
    "print('Curso' in frase)\n",
    "print('deo' in frase)\n",
    "print('deo' in frase[9:14])\n",
    "print('deo' in frase[9:11])\n",
    "print('Android' in frase)\n",
    "print('Android' not in frase)"
   ]
  },
  {
   "attachments": {},
   "cell_type": "markdown",
   "metadata": {},
   "source": [
    "#### Transformação de strings\n",
    "Embora a string seja imutável, os métodos podem alterar as formas como são exibidas.\n",
    "Para alterá-la é necessário que seja feita uma nova atribuição"
   ]
  },
  {
   "cell_type": "code",
   "execution_count": null,
   "metadata": {},
   "outputs": [],
   "source": [
    "print(frase.replace('Python', 'Android')) # substitui na exibição\n",
    "print(frase)    # mas não alterou a string realmente"
   ]
  },
  {
   "attachments": {},
   "cell_type": "markdown",
   "metadata": {},
   "source": [
    "Alguns métodos: upper, lower, title, capitaliza e outros..."
   ]
  },
  {
   "cell_type": "code",
   "execution_count": null,
   "metadata": {},
   "outputs": [],
   "source": [
    "print(frase)\n",
    "print(frase.upper())\n",
    "print('esse texto'.lower())\n",
    "print(frase.title())    # toda palavra terá a primeira maiúscula\n",
    "print(frase.capitalize())   # só o primeiro caracter da string em maiúscula\n",
    "print(frase.swapcase())"
   ]
  },
  {
   "attachments": {},
   "cell_type": "markdown",
   "metadata": {},
   "source": [
    "Tratamento e limpeza das entradas"
   ]
  },
  {
   "cell_type": "code",
   "execution_count": null,
   "metadata": {},
   "outputs": [],
   "source": [
    "frase = \"   Aprenda Python  \"   # repare nos espaços no início e final\n",
    "print(frase.strip())    # novamente só a exibição, caso queira alterar, deve refazer a atribuição\n",
    "print(frase)\n",
    "print(frase.rstrip())   # a direita\n",
    "print(frase.lstrip())   # a esquerda"
   ]
  },
  {
   "attachments": {},
   "cell_type": "markdown",
   "metadata": {},
   "source": [
    "#### Divisão de Strings"
   ]
  },
  {
   "cell_type": "code",
   "execution_count": null,
   "metadata": {},
   "outputs": [],
   "source": [
    "frase = 'Curso em Vídeo Python'\n",
    "print(frase.split())    # padrão é o espaço\n",
    "print('renato.gomes.campos@gmail.com'.split('@'))\n",
    "print('renato.gomes.campos@gmail.com'.split('.', maxsplit=1))\n",
    "print('renato.gomes.campos@gmail.com'.split('.', maxsplit=2))\n",
    "print('renato.gomes.campos@gmail.com'.split('.', maxsplit=-1))\n",
    "print('renato.gomes.campos@gmail.com'.split('.'))"
   ]
  },
  {
   "attachments": {},
   "cell_type": "markdown",
   "metadata": {},
   "source": [
    "#### Junção de Strings\n",
    "retorna uma string do iterável concatenada pela string passada"
   ]
  },
  {
   "cell_type": "code",
   "execution_count": 6,
   "metadata": {},
   "outputs": [
    {
     "name": "stdout",
     "output_type": "stream",
     "text": [
      "C-u-r-s-o- -e-m- -V-í-d-e-o- -P-y-t-h-o-n\n",
      "Curso em Vídeo Python\n",
      "['Curso', 'em', 'Vídeo', 'Python']\n",
      "Curso-em-Vídeo-Python\n",
      "CursoseparadoremseparadorVídeoseparadorPython\n"
     ]
    }
   ],
   "source": [
    "frase = 'Curso em Vídeo Python'\n",
    "print('-'.join(frase))\n",
    "print(frase)    # não esqueça que não altera\n",
    "frase = frase.split()\n",
    "print(frase)\n",
    "print('-'.join(frase))\n",
    "print('separador'.join(frase))"
   ]
  },
  {
   "attachments": {},
   "cell_type": "markdown",
   "metadata": {},
   "source": [
    "#### Praticando . . ."
   ]
  },
  {
   "cell_type": "code",
   "execution_count": 7,
   "metadata": {},
   "outputs": [],
   "source": [
    "frase = 'Curso em Vídeo Python'"
   ]
  },
  {
   "cell_type": "code",
   "execution_count": 8,
   "metadata": {},
   "outputs": [
    {
     "name": "stdout",
     "output_type": "stream",
     "text": [
      "s\n",
      "so em Víde\n",
      "Curso em Víde\n",
      "o Python\n",
      "urso em Vídeo \n",
      "us mVdo\n",
      "us mVdoPto\n",
      "Croe íe yhn\n",
      "nohtyP oedíV me osruC\n",
      "P oedíV m\n",
      "\n",
      "\n",
      "Curso em Vídeo Python\n"
     ]
    }
   ],
   "source": [
    "print(frase[3])\n",
    "print(frase[3:13])\n",
    "print(frase[:13])\n",
    "print(frase[13:])\n",
    "print(frase[1:15])\n",
    "print(frase[1:15:2])\n",
    "print(frase[1::2])\n",
    "print(frase[::2])\n",
    "print(frase[::-1])\n",
    "print(frase[15:6:-1])\n",
    "print(frase[6:15:-1])   # repare no que ocorreu\n",
    "print(frase[15:6])      # mesma coisa aqui\n",
    "print(frase)"
   ]
  },
  {
   "cell_type": "code",
   "execution_count": 9,
   "metadata": {},
   "outputs": [
    {
     "name": "stdout",
     "output_type": "stream",
     "text": [
      "3\n",
      "0\n",
      "3\n",
      "21\n",
      "28\n",
      "   Curso em Vídeo Python    \n",
      "21\n",
      "24\n",
      "25\n"
     ]
    }
   ],
   "source": [
    "# em Python tudo é um objeto\n",
    "print(frase.count('o'))\n",
    "print(frase.count('O')) #casesensitive\n",
    "print(frase.upper().count('O'))\n",
    "print(len(frase))\n",
    "frase2 = f'   {frase}    '\n",
    "print(len(frase2))\n",
    "print(frase2)\n",
    "print(len(frase2.strip()))\n",
    "print(len(frase2.rstrip()))\n",
    "print(len(frase2.lstrip()))"
   ]
  },
  {
   "cell_type": "code",
   "execution_count": 14,
   "metadata": {},
   "outputs": [
    {
     "name": "stdout",
     "output_type": "stream",
     "text": [
      "Curso em Vídeo Android\n",
      "Return a copy of the string with all occurrences of substring old >>>>d by new. If the optional argument count is given, only the first count occurrences are >>>>d.\n",
      "Return a copy of the string with all occurrences of substring old >>>>d by new. If the optional argument count is given, only the first count occurrences are replaced.\n",
      "Curso em Vídeo Python\n",
      "Curso em Vídeo Android\n"
     ]
    }
   ],
   "source": [
    "frase = 'Curso em Vídeo Python'\n",
    "print(frase.replace('Python', 'Android'))\n",
    "print('Return a copy of the string with all occurrences of substring old replaced by new. If the optional argument count is given, only the first count occurrences are replaced.'.replace('replace', '>>>>'))  # repare que sobrou o 'd'\n",
    "print('Return a copy of the string with all occurrences of substring old replaced by new. If the optional argument count is given, only the first count occurrences are replaced.'.replace('replace', '>>>>', 1))\n",
    "#frase[0] = 'J'      # lembre-se que a string é imutável\n",
    "print(frase)\n",
    "frase = frase.replace('Python', 'Android')  # altera po nova atribuição\n",
    "print(frase)"
   ]
  },
  {
   "cell_type": "code",
   "execution_count": 15,
   "metadata": {},
   "outputs": [
    {
     "name": "stdout",
     "output_type": "stream",
     "text": [
      "True\n",
      "0\n",
      "-1\n",
      "0\n"
     ]
    }
   ],
   "source": [
    "print('Curso' in frase)\n",
    "print(frase.find('Curso'))  # entenda a diferença das 3 primeiras\n",
    "print(frase.find('curso'))\n",
    "print(frase.lower().find('curso'))"
   ]
  },
  {
   "cell_type": "code",
   "execution_count": 16,
   "metadata": {},
   "outputs": [
    {
     "name": "stdout",
     "output_type": "stream",
     "text": [
      "['Curso', 'em', 'Vídeo', 'Android']\n",
      "Vídeo\n",
      "e\n"
     ]
    }
   ],
   "source": [
    "dividido = frase.split()\n",
    "print(dividido)\n",
    "print(dividido[2])\n",
    "print(dividido[2][3])"
   ]
  },
  {
   "attachments": {},
   "cell_type": "markdown",
   "metadata": {},
   "source": [
    "*Resolver do exercício 22 ao 27...*"
   ]
  }
 ],
 "metadata": {
  "kernelspec": {
   "display_name": "Python 3",
   "language": "python",
   "name": "python3"
  },
  "language_info": {
   "codemirror_mode": {
    "name": "ipython",
    "version": 3
   },
   "file_extension": ".py",
   "mimetype": "text/x-python",
   "name": "python",
   "nbconvert_exporter": "python",
   "pygments_lexer": "ipython3",
   "version": "3.10.6 (main, Nov 14 2022, 16:10:14) [GCC 11.3.0]"
  },
  "orig_nbformat": 4,
  "vscode": {
   "interpreter": {
    "hash": "916dbcbb3f70747c44a77c7bcd40155683ae19c65e1c03b4aa3499c5328201f1"
   }
  }
 },
 "nbformat": 4,
 "nbformat_minor": 2
}
