{
 "cells": [
  {
   "attachments": {},
   "cell_type": "markdown",
   "metadata": {},
   "source": [
    "## Curso de Python 3 - Mundo 1: Fundamentos - Aula 07\n",
    "##### CeV - Curso em Vídeo<div>Prof. Gustavo Guanabara\n",
    "\n",
    "##### Aluno: Renato"
   ]
  },
  {
   "attachments": {},
   "cell_type": "markdown",
   "metadata": {},
   "source": [
    "##### OPERADORES ARITMÉTICOS\n",
    "\\+ ADIÇÃO BINÁRIA - SOMA<DIV>\n",
    "\\- SUBTRAÇÃO BINÁRIA<DIV>\n",
    "\\+ UNÁRIO - POSITIVO<DIV>\n",
    "\\- UNÁRIO - NEGATIVO<DIV>\n",
    "\\* MULTIPLICAÇÃO<DIV>\n",
    "/ DIVISÃO REAL - FLOAT<DIV>\n",
    "// DIVISÃO INTEIRA<DIV>\n",
    "% MÓDULO - RESTO DA DIVISÃO INTEIRA<DIV>\n",
    "** POTÊNCIA<DIV>\n",
    "POW(BASE,EXP) POTÊNCIA\n",
    "\n",
    "Obs.: podemos usar expoentes fracionários para calcular raízes"
   ]
  },
  {
   "attachments": {},
   "cell_type": "markdown",
   "metadata": {},
   "source": [
    "##### Ordem de Precedência\n",
    "1. () parenteses\n",
    "2. +/- unários\n",
    "3. ** \n",
    "4. \\* /  //  %\n",
    "5. +/- binários\n",
    "\n",
    "Obs1.: nos casos de mesma precedência, resolva na ordem que aparecem da esquerda para a direita\n",
    "\n",
    "obs2: existem muitas outras operações que ainda serão incluídas nesta tabela de precedências"
   ]
  },
  {
   "cell_type": "code",
   "execution_count": 2,
   "metadata": {},
   "outputs": [
    {
     "name": "stdout",
     "output_type": "stream",
     "text": [
      "11\n",
      "11\n",
      "31\n",
      "31\n",
      "243\n",
      "9\n",
      "9\n",
      "9.0\n",
      "9.0\n"
     ]
    }
   ],
   "source": [
    "print(5 + 3 * 2)\n",
    "print(5 + (3 * 2))\n",
    "print(3 * 5 + 4 ** 2)\n",
    "print((3 * 5) + (4 ** 2))\n",
    "print(3 * (5 + 4) ** 2)\n",
    "print(3 ** 2)\n",
    "print(pow(3,2))\n",
    "print(pow(81, 0.5))\n",
    "print(81 ** 0.5)"
   ]
  },
  {
   "attachments": {},
   "cell_type": "markdown",
   "metadata": {},
   "source": [
    "Formatação da saída - *print() formatado*\n",
    "\n",
    "{variavel:preenchedor_alinhamento_tamanho_casasdecimais}\n",
    "ex:\n",
    "{peso:.^30.2f}\n",
    "Será exibido o valor da variável peso com alinhamento centralizado num espaço reservado de 30 posições onde os espaços não utilizados serão preenchidos por '.' (pontos) e o valor terá duas casas decimais. Serve do mesmo modo para strings, exceto casas decimais. Vejamos os exemplos:"
   ]
  },
  {
   "cell_type": "code",
   "execution_count": 14,
   "metadata": {},
   "outputs": [
    {
     "name": "stdout",
     "output_type": "stream",
     "text": [
      "O seu peso é ........125.250 e seu nome é ===========Ana===========\n",
      "O seu peso é '''''125.2 e seu nome é ------------------Ana-------------------\n"
     ]
    }
   ],
   "source": [
    "peso = 125.25\n",
    "nome = 'Ana'\n",
    "\n",
    "print(f'O seu peso é {peso:.>15.3f} e seu nome é {nome:=^25}')\n",
    "print(f'O seu peso é {peso:\\'>10.1f} e seu nome é {nome:-^40}')"
   ]
  },
  {
   "attachments": {},
   "cell_type": "markdown",
   "metadata": {},
   "source": [
    "função print() com seus atributos\n",
    "\n",
    "*sep = ' '*\n",
    "string usada na posição da vírgula dentro do *print()*, sendo o padrão o espaço\n",
    "\n",
    "*end = '\\n'*\n",
    "comportamento ao final do print(), sendo o padrão \\n que muda de linha"
   ]
  },
  {
   "cell_type": "code",
   "execution_count": 15,
   "metadata": {},
   "outputs": [
    {
     "name": "stdout",
     "output_type": "stream",
     "text": [
      "oi>>>fulano +++ bom dia\n"
     ]
    }
   ],
   "source": [
    "print('oi','fulano', sep = '>>>', end = ' +++ ')\n",
    "print('bom dia')"
   ]
  }
 ],
 "metadata": {
  "kernelspec": {
   "display_name": "Python 3",
   "language": "python",
   "name": "python3"
  },
  "language_info": {
   "codemirror_mode": {
    "name": "ipython",
    "version": 3
   },
   "file_extension": ".py",
   "mimetype": "text/x-python",
   "name": "python",
   "nbconvert_exporter": "python",
   "pygments_lexer": "ipython3",
   "version": "3.10.6"
  },
  "orig_nbformat": 4,
  "vscode": {
   "interpreter": {
    "hash": "916dbcbb3f70747c44a77c7bcd40155683ae19c65e1c03b4aa3499c5328201f1"
   }
  }
 },
 "nbformat": 4,
 "nbformat_minor": 2
}
