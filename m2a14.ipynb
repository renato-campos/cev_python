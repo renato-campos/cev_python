{
 "cells": [
  {
   "attachments": {},
   "cell_type": "markdown",
   "metadata": {},
   "source": [
    "## Curso de Python 3 - Mundo 2: Conceitos Básicos\n",
    "##### CeV - Curso em Vídeo<div>Prof. Gustavo Guanabara<div>Aluno: Renato"
   ]
  },
  {
   "attachments": {},
   "cell_type": "markdown",
   "metadata": {},
   "source": [
    "##### Aula 14 - Estrutura de repetição - while\n",
    "\n"
   ]
  },
  {
   "attachments": {},
   "cell_type": "markdown",
   "metadata": {},
   "source": [
    "Estrutura de repetição que será repetida enquanto uma condição for verdadeira.\n",
    "Geralmente possui uma condição a ser satisfeita na entrada.\n",
    "Pode haver um incremento ou decremento que seja atualizado a cada iteração.\n",
    "Pode-se usar uma flag que em certo momento é alterada .\n",
    "Esses itens acima devem ser cuidadosamente planejados para evitar que se entre em looping infinito, que acontece quando a condição de entrada nunca é alterada e permaneça sempre verdadeira impedindo assim o fim do looping.\n",
    "\n",
    "~~~python\n",
    "while not condição:\n",
    "    if condição2:\n",
    "        faz isso\n",
    "    if condição3:\n",
    "        faz isso\n",
    "    if condição4:\n",
    "        faz isso\n",
    "faz isso fora do laço\n",
    "~~~\n"
   ]
  },
  {
   "cell_type": "code",
   "execution_count": 1,
   "metadata": {},
   "outputs": [
    {
     "name": "stdout",
     "output_type": "stream",
     "text": [
      "1\n",
      "2\n",
      "3\n",
      "4\n",
      "5\n",
      "6\n",
      "7\n",
      "8\n",
      "9\n",
      "fim\n"
     ]
    }
   ],
   "source": [
    "# looping com for\n",
    "\n",
    "for c in range(1, 10):\n",
    "    print(c)\n",
    "print('fim')\n"
   ]
  },
  {
   "cell_type": "code",
   "execution_count": 2,
   "metadata": {},
   "outputs": [
    {
     "name": "stdout",
     "output_type": "stream",
     "text": [
      "1\n",
      "2\n",
      "3\n",
      "4\n",
      "5\n",
      "6\n",
      "7\n",
      "8\n",
      "9\n",
      "fim\n"
     ]
    }
   ],
   "source": [
    "# looping com while\n",
    "c = 1\n",
    "while c < 10:\n",
    "    print(c)\n",
    "    c += 1  # incremento\n",
    "print('fim')"
   ]
  },
  {
   "attachments": {},
   "cell_type": "markdown",
   "metadata": {},
   "source": [
    "Repare que se esquecer o incremento o valor de c nunca sairá de 1 e não atingira o limite da condição, ficando em looping infinito."
   ]
  },
  {
   "cell_type": "code",
   "execution_count": 3,
   "metadata": {},
   "outputs": [
    {
     "name": "stdout",
     "output_type": "stream",
     "text": [
      "2\n",
      "3\n",
      "5\n",
      "fim\n"
     ]
    }
   ],
   "source": [
    "# quando não soubermos o número de iterações o while é o ideal\n",
    "\n",
    "flag = True\n",
    "\n",
    "while flag:\n",
    "    numero = input('Digite um número ou [n] para encerrar: ').lower()\n",
    "    if numero == 'n':\n",
    "        flag = False\n",
    "    else:\n",
    "        numero = int(numero)\n",
    "        print(numero)\n",
    "print('fim')"
   ]
  }
 ],
 "metadata": {
  "kernelspec": {
   "display_name": "Python 3",
   "language": "python",
   "name": "python3"
  },
  "language_info": {
   "codemirror_mode": {
    "name": "ipython",
    "version": 3
   },
   "file_extension": ".py",
   "mimetype": "text/x-python",
   "name": "python",
   "nbconvert_exporter": "python",
   "pygments_lexer": "ipython3",
   "version": "3.10.6"
  },
  "orig_nbformat": 4,
  "vscode": {
   "interpreter": {
    "hash": "916dbcbb3f70747c44a77c7bcd40155683ae19c65e1c03b4aa3499c5328201f1"
   }
  }
 },
 "nbformat": 4,
 "nbformat_minor": 2
}
