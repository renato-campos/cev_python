{
 "cells": [
  {
   "cell_type": "markdown",
   "metadata": {},
   "source": [
    "## Curso de Python 3 - Mundo 3: Estruturas Compostas\n",
    "##### CeV - Curso em Vídeo<div>Prof. Gustavo Guanabara<div>Aluno: Renato"
   ]
  },
  {
   "attachments": {},
   "cell_type": "markdown",
   "metadata": {},
   "source": [
    "##### Aula 16 - Tuplas\n",
    "\n",
    "**Variáveis simples** armazenam um único valor por vez na memória, se quiser outro valor na memória, ou cria-se outra variável, ou substitui-se o valor anterior pelo atual, sendo que o outro é perdido\n",
    "~~~python\n",
    "var_1 = 10  # se quiser guardar o valor 5\n",
    "var_1 = 5   # e o valor 10 é perdido\n",
    "~~~\n",
    "**Variáveis compostas** podem armazenar vários valores em uma mesma variável e de tipos diferentes\n",
    "`var_1 = (10, 5)`\n",
    "`var_2 = (10, 5, 88.5, 'Alberto')`\n",
    "\n",
    "##### Tuplas\n",
    "Um dos tipos de variáveis compostas existentes em Python, como o exemplo usado acima.\n",
    "Cada um dos elementos que compõem a tupla são identificados por índices e estes permitem o acesso ao valors.\n",
    "`var_1[0]`\n",
    "`var_1[1]`\n",
    "Assim como nas strings, aqui também funciona o fatiamento e: `var[2:6]`, sendo 2 o primeiro índice a exibir e 6 o primeiro índice a não exibir.\n",
    "As tuplas também são objetos iteráveis, onde as estruturas de repetição como `for` ou `while` podem percorrê-las.\n",
    "~~~python\n",
    "tupla = (1, 2, 3, 4, 5)\n",
    "for k in lanche:\n",
    "    print(k)\n",
    "~~~\n",
    "Vai percorrer toda a tupla, elemento por elemento.\n",
    "\n",
    "Outra propriedade das tuplas é que, como as strings, são **imutáveis**\n",
    "\n",
    "Caso seja necessário mudar algo nela, tem-se que fazer uma reatribuição, mas o melhor mesmo é que se use outro tipo de variável comporta, já que foi escolhido um tipo errado para o armazenamento dos dados."
   ]
  },
  {
   "attachments": {},
   "cell_type": "markdown",
   "metadata": {},
   "source": [
    "##### Fatiamento de tuplas"
   ]
  },
  {
   "cell_type": "code",
   "execution_count": 2,
   "metadata": {},
   "outputs": [
    {
     "name": "stdout",
     "output_type": "stream",
     "text": [
      "('hamburguer', 'suco', 'pizza', 'pudim')\n",
      "<class 'tuple'>\n",
      "hamburguer\n",
      "pizza\n",
      "('suco', 'pizza')\n",
      "('pudim', 'pizza')\n"
     ]
    }
   ],
   "source": [
    "lanche = ('hamburguer', 'suco', 'pizza', 'pudim')\n",
    "print(lanche)\n",
    "print(type(lanche))\n",
    "print(lanche[0])\n",
    "print(lanche[-2])\n",
    "print(lanche[1:3])\n",
    "print(lanche[3:1:-1])"
   ]
  },
  {
   "attachments": {},
   "cell_type": "markdown",
   "metadata": {},
   "source": [
    "##### Tuplas são Imutáveis"
   ]
  },
  {
   "cell_type": "code",
   "execution_count": 3,
   "metadata": {},
   "outputs": [
    {
     "name": "stdout",
     "output_type": "stream",
     "text": [
      "suco\n"
     ]
    },
    {
     "ename": "TypeError",
     "evalue": "'tuple' object does not support item assignment",
     "output_type": "error",
     "traceback": [
      "\u001b[0;31m---------------------------------------------------------------------------\u001b[0m",
      "\u001b[0;31mTypeError\u001b[0m                                 Traceback (most recent call last)",
      "Cell \u001b[0;32mIn[3], line 3\u001b[0m\n\u001b[1;32m      1\u001b[0m \u001b[39m# tuplas são IMUTÁVEIS\u001b[39;00m\n\u001b[1;32m      2\u001b[0m \u001b[39mprint\u001b[39m(lanche[\u001b[39m1\u001b[39m])\n\u001b[0;32m----> 3\u001b[0m lanche[\u001b[39m1\u001b[39;49m] \u001b[39m=\u001b[39m \u001b[39m'\u001b[39m\u001b[39mrefrigerante\u001b[39m\u001b[39m'\u001b[39m\n\u001b[1;32m      4\u001b[0m \u001b[39mprint\u001b[39m(lanche[\u001b[39m1\u001b[39m])\n",
      "\u001b[0;31mTypeError\u001b[0m: 'tuple' object does not support item assignment"
     ]
    }
   ],
   "source": [
    "# tuplas são IMUTÁVEIS\n",
    "print(lanche[1])\n",
    "lanche[1] = 'refrigerante'\n",
    "print(lanche[1])\n"
   ]
  },
  {
   "attachments": {},
   "cell_type": "markdown",
   "metadata": {},
   "source": [
    "#### OBSERVAÇÃO quanto a imutabilidade das tuplas\n",
    "Embora a tupla seja imutável, se o objeto contido nela for mutável, ele poderá ser alterado, alterando indiretamente a tupla, mas só via índice da tupla e não pelo objeto, pois na atribuição da tupla é feita uma cópia dos objetos para a nova variável."
   ]
  },
  {
   "cell_type": "code",
   "execution_count": 23,
   "metadata": {},
   "outputs": [
    {
     "name": "stdout",
     "output_type": "stream",
     "text": [
      "(5, ['teste', 55], 77)\n",
      "(5, ['teste', 55], 77)\n",
      "(5, ['testado', 55], 77)\n",
      "(12, ['teste', 55], 77)\n",
      "(12, ['completo', 55], 77)\n"
     ]
    }
   ],
   "source": [
    "a = 5\n",
    "lista = ['teste', 55]\n",
    "tupla = (a, lista, 77)\n",
    "print(tupla)\n",
    "a = 12              # não conseguimos alterar via objeto, pois na atribuição \n",
    "lista[1] == 1000    # é feita uma cópia para a nova variável\n",
    "print(tupla)\n",
    "tupla[1][0] = 'testado'  # mas via index sim, desde que o objeto seja mutável\n",
    "print(tupla)\n",
    "tupla = (a, ['teste', 55], 77)\n",
    "print(tupla)\n",
    "tupla[1][0] = 'completo'    # consegue alterar via index da tupla pq se trata de uma lista\n",
    "print(tupla)"
   ]
  },
  {
   "attachments": {},
   "cell_type": "markdown",
   "metadata": {},
   "source": [
    "##### Tuplas são objetos ITERÁVEIS"
   ]
  },
  {
   "cell_type": "code",
   "execution_count": 4,
   "metadata": {},
   "outputs": [
    {
     "name": "stdout",
     "output_type": "stream",
     "text": [
      "hamburguer\n",
      "suco\n",
      "pizza\n",
      "pudim\n"
     ]
    }
   ],
   "source": [
    "for comida in lanche:\n",
    "    print(comida)"
   ]
  },
  {
   "attachments": {},
   "cell_type": "markdown",
   "metadata": {},
   "source": [
    "##### Iterando sobre tuplas com `range` e `len`"
   ]
  },
  {
   "cell_type": "code",
   "execution_count": 6,
   "metadata": {},
   "outputs": [
    {
     "name": "stdout",
     "output_type": "stream",
     "text": [
      "hamburguer\n",
      "suco\n",
      "pizza\n",
      "pudim\n"
     ]
    }
   ],
   "source": [
    "for k in range(len(lanche)):\n",
    "    print(lanche[k])"
   ]
  },
  {
   "attachments": {},
   "cell_type": "markdown",
   "metadata": {},
   "source": [
    "##### Iterando com o `enumarate`"
   ]
  },
  {
   "cell_type": "code",
   "execution_count": 7,
   "metadata": {},
   "outputs": [
    {
     "name": "stdout",
     "output_type": "stream",
     "text": [
      "eu vou 1º comer hamburguer\n",
      "eu vou 2º comer suco\n",
      "eu vou 3º comer pizza\n",
      "eu vou 4º comer pudim\n",
      "Comi tudinho\n"
     ]
    }
   ],
   "source": [
    "# para saber os índices usamos o enumarate que retorna a chave e o valor\n",
    "for key, value in enumerate(lanche):\n",
    "    print(f'eu vou {key+1}º comer {value}')\n",
    "print('Comi tudinho')"
   ]
  },
  {
   "attachments": {},
   "cell_type": "markdown",
   "metadata": {},
   "source": [
    "##### Método `sorted()`"
   ]
  },
  {
   "cell_type": "code",
   "execution_count": 9,
   "metadata": {},
   "outputs": [
    {
     "name": "stdout",
     "output_type": "stream",
     "text": [
      "['hamburguer', 'pizza', 'pudim', 'suco']\n",
      "('hamburguer', 'suco', 'pizza', 'pudim')\n"
     ]
    }
   ],
   "source": [
    "print(sorted(lanche))   # muda a saída, mas não a variável em si.\n",
    "print(lanche)           # Repare que na saída foi mudado para uma lista[], para conseguir colocar em ordem"
   ]
  },
  {
   "attachments": {},
   "cell_type": "markdown",
   "metadata": {},
   "source": [
    "##### Concatenação de tuplas"
   ]
  },
  {
   "cell_type": "code",
   "execution_count": 26,
   "metadata": {},
   "outputs": [
    {
     "name": "stdout",
     "output_type": "stream",
     "text": [
      "(2, 5, 4, 5, 8, 1, 2)\n",
      "(5, 8, 1, 2, 2, 5, 4)\n"
     ]
    }
   ],
   "source": [
    "a = (2, 5, 4)\n",
    "b = (5, 8, 1, 2)\n",
    "c1 = a + b\n",
    "c2 = b + a\n",
    "print(c1)\n",
    "print(c2)"
   ]
  },
  {
   "attachments": {},
   "cell_type": "markdown",
   "metadata": {},
   "source": [
    "##### Métodos\n",
    "```tupla.count(n)\n",
    "tupla.index(n)\n",
    "tupla.index(n, x)\n",
    "max(tupla)\n",
    "min(tupla)\n"
   ]
  },
  {
   "cell_type": "code",
   "execution_count": 27,
   "metadata": {},
   "outputs": [
    {
     "name": "stdout",
     "output_type": "stream",
     "text": [
      "2\n",
      "4\n",
      "0\n",
      "6\n",
      "8\n",
      "1\n"
     ]
    }
   ],
   "source": [
    "print(c1.count(5))      # quantas vezes aparece o item indicado\n",
    "print(c1.index(8))      # o índice no qual o objeto aparece a primeira vez\n",
    "print(c1.index(2))\n",
    "print(c1.index(2,1))    # o índice em qual aparece, mas a partir da posição dada\n",
    "print(max(c1))\n",
    "print(min(c1))"
   ]
  },
  {
   "attachments": {},
   "cell_type": "markdown",
   "metadata": {},
   "source": [
    "#### Apagando a Tupla"
   ]
  },
  {
   "cell_type": "code",
   "execution_count": 24,
   "metadata": {},
   "outputs": [
    {
     "ename": "NameError",
     "evalue": "name 'c1' is not defined",
     "output_type": "error",
     "traceback": [
      "\u001b[0;31m---------------------------------------------------------------------------\u001b[0m",
      "\u001b[0;31mNameError\u001b[0m                                 Traceback (most recent call last)",
      "Cell \u001b[0;32mIn[24], line 1\u001b[0m\n\u001b[0;32m----> 1\u001b[0m \u001b[39mprint\u001b[39m(c1)\n\u001b[1;32m      2\u001b[0m \u001b[39mdel\u001b[39;00m c1[\u001b[39m0\u001b[39m]\n\u001b[1;32m      3\u001b[0m \u001b[39mdel\u001b[39;00m c1\n",
      "\u001b[0;31mNameError\u001b[0m: name 'c1' is not defined"
     ]
    }
   ],
   "source": [
    "print(c1)\n",
    "#del c1[0]      # não é permitido apagar elementos\n",
    "del c1          # mas a variável inteira, sim\n",
    "print(c1)"
   ]
  }
 ],
 "metadata": {
  "kernelspec": {
   "display_name": "Python 3",
   "language": "python",
   "name": "python3"
  },
  "language_info": {
   "codemirror_mode": {
    "name": "ipython",
    "version": 3
   },
   "file_extension": ".py",
   "mimetype": "text/x-python",
   "name": "python",
   "nbconvert_exporter": "python",
   "pygments_lexer": "ipython3",
   "version": "3.10.6"
  },
  "orig_nbformat": 4,
  "vscode": {
   "interpreter": {
    "hash": "916dbcbb3f70747c44a77c7bcd40155683ae19c65e1c03b4aa3499c5328201f1"
   }
  }
 },
 "nbformat": 4,
 "nbformat_minor": 2
}
