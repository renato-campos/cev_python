{
 "cells": [
  {
   "attachments": {},
   "cell_type": "markdown",
   "metadata": {},
   "source": [
    "## Curso de Python 3 - Mundo 2: Conceitos Básicos\n",
    "##### CeV - Curso em Vídeo<div>Prof. Gustavo Guanabara<div>Aluno: Renato"
   ]
  },
  {
   "attachments": {},
   "cell_type": "markdown",
   "metadata": {},
   "source": [
    "#### Aula 15 - Interrompendo laços de  repetições\n",
    "\n",
    "Nessa aula, vamos aprender como utilizar a instrução break e os loopings infinitos a favor das nossas estratégias de código. É muito importante saber usar o `break` no Python, já que em alguns casos precisamos interromper um laço no meio do caminho.\n",
    "\n",
    "Além disso, vamos aprender como trabalhar com as novas **_fstrings_** do Python.\n",
    "\n",
    "~~~python\n",
    "while True:\n",
    "    passo1\n",
    "    if cond1:\n",
    "        passo volta inicio\n",
    "        continue\n",
    "    elif cond2:\n",
    "        passo final\n",
    "        break\n",
    "    else:\n",
    "        passo 3\n",
    "    passo 4\n",
    "print('final')\n",
    "~~~"
   ]
  },
  {
   "cell_type": "code",
   "execution_count": 3,
   "metadata": {},
   "outputs": [
    {
     "name": "stdout",
     "output_type": "stream",
     "text": [
      "1 -> 2 -> 3 -> 4 -> 5 -> 6 -> 7 -> 8 -> 9 -> 10 -> fim\n"
     ]
    }
   ],
   "source": [
    "# como foi feito até agora\n",
    "k = 1\n",
    "while k <= 10:\n",
    "    print(k, end=' -> ')\n",
    "    k += 1\n",
    "print('fim')\n"
   ]
  },
  {
   "cell_type": "code",
   "execution_count": 1,
   "metadata": {},
   "outputs": [
    {
     "name": "stdout",
     "output_type": "stream",
     "text": [
      "1 -> 2 -> 3 -> 4 -> 5 -> 6 -> 7 -> 8 -> 9 -> 10 -> fim\n"
     ]
    }
   ],
   "source": [
    "# como foi feito até agora\n",
    "k = 1\n",
    "while True:\n",
    "    print(k, end=' -> ')\n",
    "    if k == 10:\n",
    "        break       # a posição do break é fundamental para contadores e acumuladores\n",
    "    k += 1\n",
    "print('fim')\n"
   ]
  },
  {
   "cell_type": "code",
   "execution_count": 4,
   "metadata": {},
   "outputs": [
    {
     "name": "stdout",
     "output_type": "stream",
     "text": [
      "O nome dele é \n"
     ]
    }
   ],
   "source": [
    "# fstrings\n",
    "for k in range(1,4):\n",
    "    nome = str(input(f'Digite o {k}º nome: '))\n",
    "\n",
    "print(f'O nome dele é {nome}')\n"
   ]
  },
  {
   "attachments": {},
   "cell_type": "markdown",
   "metadata": {},
   "source": [
    "**_Resolver exercício 66 ao ..._**"
   ]
  }
 ],
 "metadata": {
  "kernelspec": {
   "display_name": "Python 3",
   "language": "python",
   "name": "python3"
  },
  "language_info": {
   "codemirror_mode": {
    "name": "ipython",
    "version": 3
   },
   "file_extension": ".py",
   "mimetype": "text/x-python",
   "name": "python",
   "nbconvert_exporter": "python",
   "pygments_lexer": "ipython3",
   "version": "3.10.6"
  },
  "orig_nbformat": 4,
  "vscode": {
   "interpreter": {
    "hash": "916dbcbb3f70747c44a77c7bcd40155683ae19c65e1c03b4aa3499c5328201f1"
   }
  }
 },
 "nbformat": 4,
 "nbformat_minor": 2
}
